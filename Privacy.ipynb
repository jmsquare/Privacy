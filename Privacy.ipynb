{
  "nbformat": 4,
  "nbformat_minor": 0,
  "metadata": {
    "kernelspec": {
      "display_name": "Python 3",
      "language": "python",
      "name": "python3"
    },
    "language_info": {
      "codemirror_mode": {
        "name": "ipython",
        "version": 3
      },
      "file_extension": ".py",
      "mimetype": "text/x-python",
      "name": "python",
      "nbconvert_exporter": "python",
      "pygments_lexer": "ipython3",
      "version": "3.8.5"
    },
    "colab": {
      "name": "Privacy.ipynb",
      "provenance": []
    }
  },
  "cells": [
    {
      "cell_type": "code",
      "metadata": {
        "colab": {
          "base_uri": "https://localhost:8080/"
        },
        "id": "D9D9QXKi9dfY",
        "outputId": "f8ff9ed1-10cb-479b-c598-55c5c79fc9fa"
      },
      "source": [
        "!pip install IProgress"
      ],
      "execution_count": null,
      "outputs": [
        {
          "output_type": "stream",
          "text": [
            "Collecting IProgress\n",
            "  Downloading IProgress-0.4-py3-none-any.whl (11 kB)\n",
            "Requirement already satisfied: six in /usr/local/lib/python3.7/dist-packages (from IProgress) (1.15.0)\n",
            "Installing collected packages: IProgress\n",
            "Successfully installed IProgress-0.4\n"
          ],
          "name": "stdout"
        }
      ]
    },
    {
      "cell_type": "code",
      "metadata": {
        "id": "Fzo-8Xma9PAJ"
      },
      "source": [
        "import pandas as pd\n",
        "import sklearn\n",
        "from sklearn.ensemble import RandomForestClassifier\n",
        "from sklearn import model_selection\n",
        "from sklearn.preprocessing import StandardScaler\n",
        "import numpy as np\n",
        "import pickle\n",
        "from sklearn.model_selection import RandomizedSearchCV\n",
        "from sklearn.preprocessing import OneHotEncoder, FunctionTransformer\n",
        "import IProgress\n",
        "import ipywidgets\n",
        "from sklearn.linear_model import LogisticRegression, LinearRegression\n",
        "from sklearn.metrics import confusion_matrix\n",
        "from sklearn.metrics import accuracy_score, confusion_matrix, plot_confusion_matrix\n",
        "import matplotlib.pyplot as plt\n",
        "import random\n",
        "from sklearn.compose import ColumnTransformer\n",
        "from sklearn.pipeline import Pipeline\n",
        "from itertools import product, combinations\n",
        "from tqdm import tqdm\n",
        "import joblib\n",
        "from sklearn.ensemble import RandomForestClassifier"
      ],
      "execution_count": null,
      "outputs": []
    },
    {
      "cell_type": "code",
      "metadata": {
        "id": "wWJJ-u0R9PAJ"
      },
      "source": [
        "seed = 2021"
      ],
      "execution_count": null,
      "outputs": []
    },
    {
      "cell_type": "code",
      "metadata": {
        "colab": {
          "resources": {
            "http://localhost:8080/nbextensions/google.colab/files.js": {
              "data": "Ly8gQ29weXJpZ2h0IDIwMTcgR29vZ2xlIExMQwovLwovLyBMaWNlbnNlZCB1bmRlciB0aGUgQXBhY2hlIExpY2Vuc2UsIFZlcnNpb24gMi4wICh0aGUgIkxpY2Vuc2UiKTsKLy8geW91IG1heSBub3QgdXNlIHRoaXMgZmlsZSBleGNlcHQgaW4gY29tcGxpYW5jZSB3aXRoIHRoZSBMaWNlbnNlLgovLyBZb3UgbWF5IG9idGFpbiBhIGNvcHkgb2YgdGhlIExpY2Vuc2UgYXQKLy8KLy8gICAgICBodHRwOi8vd3d3LmFwYWNoZS5vcmcvbGljZW5zZXMvTElDRU5TRS0yLjAKLy8KLy8gVW5sZXNzIHJlcXVpcmVkIGJ5IGFwcGxpY2FibGUgbGF3IG9yIGFncmVlZCB0byBpbiB3cml0aW5nLCBzb2Z0d2FyZQovLyBkaXN0cmlidXRlZCB1bmRlciB0aGUgTGljZW5zZSBpcyBkaXN0cmlidXRlZCBvbiBhbiAiQVMgSVMiIEJBU0lTLAovLyBXSVRIT1VUIFdBUlJBTlRJRVMgT1IgQ09ORElUSU9OUyBPRiBBTlkgS0lORCwgZWl0aGVyIGV4cHJlc3Mgb3IgaW1wbGllZC4KLy8gU2VlIHRoZSBMaWNlbnNlIGZvciB0aGUgc3BlY2lmaWMgbGFuZ3VhZ2UgZ292ZXJuaW5nIHBlcm1pc3Npb25zIGFuZAovLyBsaW1pdGF0aW9ucyB1bmRlciB0aGUgTGljZW5zZS4KCi8qKgogKiBAZmlsZW92ZXJ2aWV3IEhlbHBlcnMgZm9yIGdvb2dsZS5jb2xhYiBQeXRob24gbW9kdWxlLgogKi8KKGZ1bmN0aW9uKHNjb3BlKSB7CmZ1bmN0aW9uIHNwYW4odGV4dCwgc3R5bGVBdHRyaWJ1dGVzID0ge30pIHsKICBjb25zdCBlbGVtZW50ID0gZG9jdW1lbnQuY3JlYXRlRWxlbWVudCgnc3BhbicpOwogIGVsZW1lbnQudGV4dENvbnRlbnQgPSB0ZXh0OwogIGZvciAoY29uc3Qga2V5IG9mIE9iamVjdC5rZXlzKHN0eWxlQXR0cmlidXRlcykpIHsKICAgIGVsZW1lbnQuc3R5bGVba2V5XSA9IHN0eWxlQXR0cmlidXRlc1trZXldOwogIH0KICByZXR1cm4gZWxlbWVudDsKfQoKLy8gTWF4IG51bWJlciBvZiBieXRlcyB3aGljaCB3aWxsIGJlIHVwbG9hZGVkIGF0IGEgdGltZS4KY29uc3QgTUFYX1BBWUxPQURfU0laRSA9IDEwMCAqIDEwMjQ7CgpmdW5jdGlvbiBfdXBsb2FkRmlsZXMoaW5wdXRJZCwgb3V0cHV0SWQpIHsKICBjb25zdCBzdGVwcyA9IHVwbG9hZEZpbGVzU3RlcChpbnB1dElkLCBvdXRwdXRJZCk7CiAgY29uc3Qgb3V0cHV0RWxlbWVudCA9IGRvY3VtZW50LmdldEVsZW1lbnRCeUlkKG91dHB1dElkKTsKICAvLyBDYWNoZSBzdGVwcyBvbiB0aGUgb3V0cHV0RWxlbWVudCB0byBtYWtlIGl0IGF2YWlsYWJsZSBmb3IgdGhlIG5leHQgY2FsbAogIC8vIHRvIHVwbG9hZEZpbGVzQ29udGludWUgZnJvbSBQeXRob24uCiAgb3V0cHV0RWxlbWVudC5zdGVwcyA9IHN0ZXBzOwoKICByZXR1cm4gX3VwbG9hZEZpbGVzQ29udGludWUob3V0cHV0SWQpOwp9CgovLyBUaGlzIGlzIHJvdWdobHkgYW4gYXN5bmMgZ2VuZXJhdG9yIChub3Qgc3VwcG9ydGVkIGluIHRoZSBicm93c2VyIHlldCksCi8vIHdoZXJlIHRoZXJlIGFyZSBtdWx0aXBsZSBhc3luY2hyb25vdXMgc3RlcHMgYW5kIHRoZSBQeXRob24gc2lkZSBpcyBnb2luZwovLyB0byBwb2xsIGZvciBjb21wbGV0aW9uIG9mIGVhY2ggc3RlcC4KLy8gVGhpcyB1c2VzIGEgUHJvbWlzZSB0byBibG9jayB0aGUgcHl0aG9uIHNpZGUgb24gY29tcGxldGlvbiBvZiBlYWNoIHN0ZXAsCi8vIHRoZW4gcGFzc2VzIHRoZSByZXN1bHQgb2YgdGhlIHByZXZpb3VzIHN0ZXAgYXMgdGhlIGlucHV0IHRvIHRoZSBuZXh0IHN0ZXAuCmZ1bmN0aW9uIF91cGxvYWRGaWxlc0NvbnRpbnVlKG91dHB1dElkKSB7CiAgY29uc3Qgb3V0cHV0RWxlbWVudCA9IGRvY3VtZW50LmdldEVsZW1lbnRCeUlkKG91dHB1dElkKTsKICBjb25zdCBzdGVwcyA9IG91dHB1dEVsZW1lbnQuc3RlcHM7CgogIGNvbnN0IG5leHQgPSBzdGVwcy5uZXh0KG91dHB1dEVsZW1lbnQubGFzdFByb21pc2VWYWx1ZSk7CiAgcmV0dXJuIFByb21pc2UucmVzb2x2ZShuZXh0LnZhbHVlLnByb21pc2UpLnRoZW4oKHZhbHVlKSA9PiB7CiAgICAvLyBDYWNoZSB0aGUgbGFzdCBwcm9taXNlIHZhbHVlIHRvIG1ha2UgaXQgYXZhaWxhYmxlIHRvIHRoZSBuZXh0CiAgICAvLyBzdGVwIG9mIHRoZSBnZW5lcmF0b3IuCiAgICBvdXRwdXRFbGVtZW50Lmxhc3RQcm9taXNlVmFsdWUgPSB2YWx1ZTsKICAgIHJldHVybiBuZXh0LnZhbHVlLnJlc3BvbnNlOwogIH0pOwp9CgovKioKICogR2VuZXJhdG9yIGZ1bmN0aW9uIHdoaWNoIGlzIGNhbGxlZCBiZXR3ZWVuIGVhY2ggYXN5bmMgc3RlcCBvZiB0aGUgdXBsb2FkCiAqIHByb2Nlc3MuCiAqIEBwYXJhbSB7c3RyaW5nfSBpbnB1dElkIEVsZW1lbnQgSUQgb2YgdGhlIGlucHV0IGZpbGUgcGlja2VyIGVsZW1lbnQuCiAqIEBwYXJhbSB7c3RyaW5nfSBvdXRwdXRJZCBFbGVtZW50IElEIG9mIHRoZSBvdXRwdXQgZGlzcGxheS4KICogQHJldHVybiB7IUl0ZXJhYmxlPCFPYmplY3Q+fSBJdGVyYWJsZSBvZiBuZXh0IHN0ZXBzLgogKi8KZnVuY3Rpb24qIHVwbG9hZEZpbGVzU3RlcChpbnB1dElkLCBvdXRwdXRJZCkgewogIGNvbnN0IGlucHV0RWxlbWVudCA9IGRvY3VtZW50LmdldEVsZW1lbnRCeUlkKGlucHV0SWQpOwogIGlucHV0RWxlbWVudC5kaXNhYmxlZCA9IGZhbHNlOwoKICBjb25zdCBvdXRwdXRFbGVtZW50ID0gZG9jdW1lbnQuZ2V0RWxlbWVudEJ5SWQob3V0cHV0SWQpOwogIG91dHB1dEVsZW1lbnQuaW5uZXJIVE1MID0gJyc7CgogIGNvbnN0IHBpY2tlZFByb21pc2UgPSBuZXcgUHJvbWlzZSgocmVzb2x2ZSkgPT4gewogICAgaW5wdXRFbGVtZW50LmFkZEV2ZW50TGlzdGVuZXIoJ2NoYW5nZScsIChlKSA9PiB7CiAgICAgIHJlc29sdmUoZS50YXJnZXQuZmlsZXMpOwogICAgfSk7CiAgfSk7CgogIGNvbnN0IGNhbmNlbCA9IGRvY3VtZW50LmNyZWF0ZUVsZW1lbnQoJ2J1dHRvbicpOwogIGlucHV0RWxlbWVudC5wYXJlbnRFbGVtZW50LmFwcGVuZENoaWxkKGNhbmNlbCk7CiAgY2FuY2VsLnRleHRDb250ZW50ID0gJ0NhbmNlbCB1cGxvYWQnOwogIGNvbnN0IGNhbmNlbFByb21pc2UgPSBuZXcgUHJvbWlzZSgocmVzb2x2ZSkgPT4gewogICAgY2FuY2VsLm9uY2xpY2sgPSAoKSA9PiB7CiAgICAgIHJlc29sdmUobnVsbCk7CiAgICB9OwogIH0pOwoKICAvLyBXYWl0IGZvciB0aGUgdXNlciB0byBwaWNrIHRoZSBmaWxlcy4KICBjb25zdCBmaWxlcyA9IHlpZWxkIHsKICAgIHByb21pc2U6IFByb21pc2UucmFjZShbcGlja2VkUHJvbWlzZSwgY2FuY2VsUHJvbWlzZV0pLAogICAgcmVzcG9uc2U6IHsKICAgICAgYWN0aW9uOiAnc3RhcnRpbmcnLAogICAgfQogIH07CgogIGNhbmNlbC5yZW1vdmUoKTsKCiAgLy8gRGlzYWJsZSB0aGUgaW5wdXQgZWxlbWVudCBzaW5jZSBmdXJ0aGVyIHBpY2tzIGFyZSBub3QgYWxsb3dlZC4KICBpbnB1dEVsZW1lbnQuZGlzYWJsZWQgPSB0cnVlOwoKICBpZiAoIWZpbGVzKSB7CiAgICByZXR1cm4gewogICAgICByZXNwb25zZTogewogICAgICAgIGFjdGlvbjogJ2NvbXBsZXRlJywKICAgICAgfQogICAgfTsKICB9CgogIGZvciAoY29uc3QgZmlsZSBvZiBmaWxlcykgewogICAgY29uc3QgbGkgPSBkb2N1bWVudC5jcmVhdGVFbGVtZW50KCdsaScpOwogICAgbGkuYXBwZW5kKHNwYW4oZmlsZS5uYW1lLCB7Zm9udFdlaWdodDogJ2JvbGQnfSkpOwogICAgbGkuYXBwZW5kKHNwYW4oCiAgICAgICAgYCgke2ZpbGUudHlwZSB8fCAnbi9hJ30pIC0gJHtmaWxlLnNpemV9IGJ5dGVzLCBgICsKICAgICAgICBgbGFzdCBtb2RpZmllZDogJHsKICAgICAgICAgICAgZmlsZS5sYXN0TW9kaWZpZWREYXRlID8gZmlsZS5sYXN0TW9kaWZpZWREYXRlLnRvTG9jYWxlRGF0ZVN0cmluZygpIDoKICAgICAgICAgICAgICAgICAgICAgICAgICAgICAgICAgICAgJ24vYSd9IC0gYCkpOwogICAgY29uc3QgcGVyY2VudCA9IHNwYW4oJzAlIGRvbmUnKTsKICAgIGxpLmFwcGVuZENoaWxkKHBlcmNlbnQpOwoKICAgIG91dHB1dEVsZW1lbnQuYXBwZW5kQ2hpbGQobGkpOwoKICAgIGNvbnN0IGZpbGVEYXRhUHJvbWlzZSA9IG5ldyBQcm9taXNlKChyZXNvbHZlKSA9PiB7CiAgICAgIGNvbnN0IHJlYWRlciA9IG5ldyBGaWxlUmVhZGVyKCk7CiAgICAgIHJlYWRlci5vbmxvYWQgPSAoZSkgPT4gewogICAgICAgIHJlc29sdmUoZS50YXJnZXQucmVzdWx0KTsKICAgICAgfTsKICAgICAgcmVhZGVyLnJlYWRBc0FycmF5QnVmZmVyKGZpbGUpOwogICAgfSk7CiAgICAvLyBXYWl0IGZvciB0aGUgZGF0YSB0byBiZSByZWFkeS4KICAgIGxldCBmaWxlRGF0YSA9IHlpZWxkIHsKICAgICAgcHJvbWlzZTogZmlsZURhdGFQcm9taXNlLAogICAgICByZXNwb25zZTogewogICAgICAgIGFjdGlvbjogJ2NvbnRpbnVlJywKICAgICAgfQogICAgfTsKCiAgICAvLyBVc2UgYSBjaHVua2VkIHNlbmRpbmcgdG8gYXZvaWQgbWVzc2FnZSBzaXplIGxpbWl0cy4gU2VlIGIvNjIxMTU2NjAuCiAgICBsZXQgcG9zaXRpb24gPSAwOwogICAgZG8gewogICAgICBjb25zdCBsZW5ndGggPSBNYXRoLm1pbihmaWxlRGF0YS5ieXRlTGVuZ3RoIC0gcG9zaXRpb24sIE1BWF9QQVlMT0FEX1NJWkUpOwogICAgICBjb25zdCBjaHVuayA9IG5ldyBVaW50OEFycmF5KGZpbGVEYXRhLCBwb3NpdGlvbiwgbGVuZ3RoKTsKICAgICAgcG9zaXRpb24gKz0gbGVuZ3RoOwoKICAgICAgY29uc3QgYmFzZTY0ID0gYnRvYShTdHJpbmcuZnJvbUNoYXJDb2RlLmFwcGx5KG51bGwsIGNodW5rKSk7CiAgICAgIHlpZWxkIHsKICAgICAgICByZXNwb25zZTogewogICAgICAgICAgYWN0aW9uOiAnYXBwZW5kJywKICAgICAgICAgIGZpbGU6IGZpbGUubmFtZSwKICAgICAgICAgIGRhdGE6IGJhc2U2NCwKICAgICAgICB9LAogICAgICB9OwoKICAgICAgbGV0IHBlcmNlbnREb25lID0gZmlsZURhdGEuYnl0ZUxlbmd0aCA9PT0gMCA/CiAgICAgICAgICAxMDAgOgogICAgICAgICAgTWF0aC5yb3VuZCgocG9zaXRpb24gLyBmaWxlRGF0YS5ieXRlTGVuZ3RoKSAqIDEwMCk7CiAgICAgIHBlcmNlbnQudGV4dENvbnRlbnQgPSBgJHtwZXJjZW50RG9uZX0lIGRvbmVgOwoKICAgIH0gd2hpbGUgKHBvc2l0aW9uIDwgZmlsZURhdGEuYnl0ZUxlbmd0aCk7CiAgfQoKICAvLyBBbGwgZG9uZS4KICB5aWVsZCB7CiAgICByZXNwb25zZTogewogICAgICBhY3Rpb246ICdjb21wbGV0ZScsCiAgICB9CiAgfTsKfQoKc2NvcGUuZ29vZ2xlID0gc2NvcGUuZ29vZ2xlIHx8IHt9OwpzY29wZS5nb29nbGUuY29sYWIgPSBzY29wZS5nb29nbGUuY29sYWIgfHwge307CnNjb3BlLmdvb2dsZS5jb2xhYi5fZmlsZXMgPSB7CiAgX3VwbG9hZEZpbGVzLAogIF91cGxvYWRGaWxlc0NvbnRpbnVlLAp9Owp9KShzZWxmKTsK",
              "ok": true,
              "headers": [
                [
                  "content-type",
                  "application/javascript"
                ]
              ],
              "status": 200,
              "status_text": ""
            }
          },
          "base_uri": "https://localhost:8080/",
          "height": 72
        },
        "id": "p4tgTcis95Me",
        "outputId": "b1cc1bcd-a672-419d-98aa-27dcdac8da03"
      },
      "source": [
        "from google.colab import files\n",
        "uploaded = files.upload()"
      ],
      "execution_count": null,
      "outputs": [
        {
          "output_type": "display_data",
          "data": {
            "text/html": [
              "\n",
              "     <input type=\"file\" id=\"files-b6263824-c4bd-4403-918b-55441ade2554\" name=\"files[]\" multiple disabled\n",
              "        style=\"border:none\" />\n",
              "     <output id=\"result-b6263824-c4bd-4403-918b-55441ade2554\">\n",
              "      Upload widget is only available when the cell has been executed in the\n",
              "      current browser session. Please rerun this cell to enable.\n",
              "      </output>\n",
              "      <script src=\"/nbextensions/google.colab/files.js\"></script> "
            ],
            "text/plain": [
              "<IPython.core.display.HTML object>"
            ]
          },
          "metadata": {
            "tags": []
          }
        },
        {
          "output_type": "stream",
          "text": [
            "Saving german_credit_prepared.csv to german_credit_prepared.csv\n"
          ],
          "name": "stdout"
        }
      ]
    },
    {
      "cell_type": "code",
      "metadata": {
        "id": "5uMo3RWj9PAK"
      },
      "source": [
        "credit = pd.read_csv(\"german_credit_prepared.csv\", sep=\",\", engine=\"python\")\n",
        "#credit = pd.read_csv(\"Data/german_credit_prepared.csv\", sep=\",\", engine=\"python\")\n",
        "\n",
        "input_types = {'account_check_status': \"cat\",\n",
        "               'duration_in_month': \"num\",\n",
        "               'credit_history': \"cat\", \n",
        "               'purpose': \"cat\", \n",
        "               'credit_amount': \"num\", \n",
        "               'savings': \"cat\",\n",
        "               'present_emp_since': \"cat\",\n",
        "               'installment_as_income_perc': \"num\",\n",
        "               'sex': \"cat\",\n",
        "               'personal _status': \"cat\",\n",
        "               'other_debtors': \"cat\", \n",
        "               'present_res_since': \"num\", \n",
        "               'property': \"cat\",\n",
        "               'age': \"num\", \n",
        "               'other_installment_plans': \"cat\", \n",
        "               'housing': \"cat\", \n",
        "               'credits_this_bank': \"num\", \n",
        "               'job': \"cat\",\n",
        "               'people_under_maintenance': \"num\", \n",
        "               'telephone': \"cat\", \n",
        "               'foreign_worker': \"cat\"}"
      ],
      "execution_count": null,
      "outputs": []
    },
    {
      "cell_type": "code",
      "metadata": {
        "id": "grIFCJnC9PAK"
      },
      "source": [
        "y = credit['default']\n",
        "X = credit.drop(columns=\"default\")\n",
        "\n",
        "# Define which columns should be encoded vs scaled\n",
        "categorical_features = [col for col in X.columns if credit[col].dtype==object]\n",
        "ordinal_features = [col for col in X.columns if credit[col].dtype==int]\n",
        "\n",
        "preprocessor = ColumnTransformer(\n",
        "    transformers=[\n",
        "        ('cat', OneHotEncoder(handle_unknown='ignore'), categorical_features),\n",
        "        ('ord', StandardScaler(), ordinal_features)\n",
        "    ])\n",
        "\n",
        "model = Pipeline(\n",
        "        [\n",
        "            ('preprocession', preprocessor),\n",
        "            ('logreg', LogisticRegression())\n",
        "        ]\n",
        ")"
      ],
      "execution_count": null,
      "outputs": []
    },
    {
      "cell_type": "code",
      "metadata": {
        "id": "vf1x-XGh9PAL"
      },
      "source": [
        "X_train, X_test, y_train, y_test = model_selection.train_test_split(X, y, test_size=0.20, random_state=seed)"
      ],
      "execution_count": null,
      "outputs": []
    },
    {
      "cell_type": "code",
      "metadata": {
        "id": "LiYzZiX29PAL"
      },
      "source": [
        "logreg = model.fit(X_train, y_train)"
      ],
      "execution_count": null,
      "outputs": []
    },
    {
      "cell_type": "code",
      "metadata": {
        "id": "nk5f3r2X9PAL"
      },
      "source": [
        "def mesure_reg(reg, X_test, y_test):\n",
        "    y_test_pred = reg.predict(X_test)\n",
        "    cm = confusion_matrix(y_test, y_test_pred)\n",
        "    total=sum(sum(cm))\n",
        "    sensitivity_recall = cm[0,0]/(cm[0,0]+cm[1,0])\n",
        "    print('Sensitivity_recall : ',sensitivity_recall )\n",
        "    Specificity = cm[1,1]/(cm[1,1]+cm[0,1])\n",
        "    print('Specificity: ', Specificity)\n",
        "    precision = cm[0,0]/(cm[0,0]+cm[0,1])\n",
        "    print('Precision: ', precision)\n",
        "    accuracy =(cm[0,0]+cm[1,1])/(cm[0,0]+cm[0,1]+cm[1,0]+cm[1,1])\n",
        "    print('Accuracy: ', accuracy)\n",
        "    \n",
        "    title = 'Matrice de confusion de la régression logistique'\n",
        "    disp = plot_confusion_matrix(reg,\n",
        "                                 X_test,\n",
        "                                 y_test,\n",
        "                                 cmap=plt.cm.Blues)\n",
        "    disp.ax_.set_title(title)\n",
        "    plt.show()"
      ],
      "execution_count": null,
      "outputs": []
    },
    {
      "cell_type": "code",
      "metadata": {
        "id": "WMsn6xGs9PAM",
        "outputId": "00e06a91-d49c-4c11-d20b-2a58671714ae"
      },
      "source": [
        "mesure_reg(logreg, X_test, y_test)"
      ],
      "execution_count": null,
      "outputs": [
        {
          "output_type": "stream",
          "text": [
            "Sensitivity_recall :  0.7880794701986755\n",
            "Specificity:  0.5714285714285714\n",
            "Precision:  0.85\n",
            "Accuracy:  0.735\n"
          ],
          "name": "stdout"
        },
        {
          "output_type": "display_data",
          "data": {
            "image/png": "[encoded data removed]",
            "text/plain": [
              "<Figure size 432x288 with 2 Axes>"
            ]
          },
          "metadata": {
            "tags": [],
            "needs_background": "light"
          }
        }
      ]
    },
    {
      "cell_type": "markdown",
      "metadata": {
        "id": "8zOsBIXE9PAM"
      },
      "source": [
        "# Evasion\n",
        "\n",
        "On va chercher les variables non vérifiables et les modifiées jusqu'à ce que l'individu refusé soit accepté.\n",
        "\n",
        "[Source](https://archive.ics.uci.edu/ml/datasets/statlog+(german+credit+data))\n",
        "\n",
        "On voit qu'il n'y a que très peu de variables que l'on peut modifier et qui ne soit pas vérifiable. C'est une base de données pour crédit ce qui explique cela.\n",
        "On voit qu'il y a :\n",
        " - purpose : correspond à la finalité du prêt\n",
        " - personal_status : la condition de vie en couple\n",
        "\n",
        "On a également des variables difficilements vérifiables :\n",
        " - present_emp_since : depuis quand la personne travail à son poste\n",
        " - job : le type de travaille de la personne\n",
        " - people_under_maintenance : le nombre de personne à charge\n",
        " \n",
        "On choisit ensuite une personne aléatoirement parmis les personnes refusées :"
      ]
    },
    {
      "cell_type": "code",
      "metadata": {
        "colab": {
          "base_uri": "https://localhost:8080/"
        },
        "id": "fsLQi4wy9PAN",
        "outputId": "75be3791-f670-4b68-e677-f4423ca33a90"
      },
      "source": [
        "#np.random.seed(seed)\n",
        "idx_ref = np.where(logreg.predict_proba(X)[:, 1] > 0.5)[0]\n",
        "idx = np.random.choice(idx_ref)\n",
        "\n",
        "#idx = 153 # --> juste besoin de changer le but du prêt : 'education', '(vacation - does not exist?)', 'car (new)'\n",
        "#idx = 232 #--> pas possible de le faire passer\n",
        "X.iloc[idx]"
      ],
      "execution_count": null,
      "outputs": [
        {
          "output_type": "execute_result",
          "data": {
            "text/plain": [
              "account_check_status                                                     < 0 DM\n",
              "duration_in_month                                                             9\n",
              "credit_history                         existing credits paid back duly till now\n",
              "purpose                                                               car (new)\n",
              "credit_amount                                                               654\n",
              "savings                                                            ... < 100 DM\n",
              "present_emp_since                                            1 <= ... < 4 years\n",
              "installment_as_income_perc                                                    4\n",
              "sex                                                                        male\n",
              "personal _status                                                         single\n",
              "other_debtors                                                              none\n",
              "present_res_since                                                             3\n",
              "property                      if not A121/A122 : car or other, not in attrib...\n",
              "age                                                                          28\n",
              "other_installment_plans                                                    none\n",
              "housing                                                                     own\n",
              "credits_this_bank                                                             1\n",
              "job                                                        unskilled - resident\n",
              "people_under_maintenance                                                      1\n",
              "telephone                                                                  none\n",
              "foreign_worker                                                              yes\n",
              "Name: 472, dtype: object"
            ]
          },
          "metadata": {
            "tags": []
          },
          "execution_count": 12
        }
      ]
    },
    {
      "cell_type": "code",
      "metadata": {
        "colab": {
          "base_uri": "https://localhost:8080/"
        },
        "id": "2rPvVHUq9PAN",
        "outputId": "c3d768cf-2633-4e7a-a6ab-1acae6dce520"
      },
      "source": [
        "logreg.predict_proba(X.iloc[idx].to_frame().transpose())[:, 1]"
      ],
      "execution_count": null,
      "outputs": [
        {
          "output_type": "execute_result",
          "data": {
            "text/plain": [
              "array([0.51808361])"
            ]
          },
          "metadata": {
            "tags": []
          },
          "execution_count": 13
        }
      ]
    },
    {
      "cell_type": "code",
      "metadata": {
        "id": "7_EzN7449PAO"
      },
      "source": [
        "var_values = ['purpose', 'personal _status', 'present_emp_since', 'job', 'people_under_maintenance']\n",
        "fix_values = [x for x in X.columns if x not in var_values]\n",
        "\n",
        "all_values = [X[col].unique() for col in var_values]\n",
        "prod = list(product(*all_values))   #produit cartésien\n",
        "\n",
        "all_X = pd.DataFrame([X.iloc[idx][fix_values].tolist() + list(p) for p in prod],\n",
        "                      columns=fix_values + var_values)\n",
        "all_X = all_X[X.columns]\n",
        "all_X['proba'] = logreg.predict_proba(all_X)[:, 1]"
      ],
      "execution_count": null,
      "outputs": []
    },
    {
      "cell_type": "code",
      "metadata": {
        "colab": {
          "base_uri": "https://localhost:8080/",
          "height": 581
        },
        "id": "Tijmb5329PAO",
        "outputId": "2327a659-d01e-4906-b817-5e9d2d7a9738"
      },
      "source": [
        "all_X.sort_values('proba', inplace=True)\n",
        "valid_X = all_X[all_X.proba < 0.5]\n",
        "\n",
        "# On calcule le nombre de variable qu'on a du modifier\n",
        "valid_X = valid_X.assign(diff = [(valid_X.iloc[i][var_values] == X.iloc[idx][var_values]).value_counts()[False] \n",
        "                                       for i in range(len(valid_X))])\n",
        "\n",
        "valid_X.sort_values(by=['diff', 'proba'], inplace=True)\n",
        "valid_X.head(5)"
      ],
      "execution_count": null,
      "outputs": [
        {
          "output_type": "execute_result",
          "data": {
            "text/html": [
              "<div>\n",
              "<style scoped>\n",
              "    .dataframe tbody tr th:only-of-type {\n",
              "        vertical-align: middle;\n",
              "    }\n",
              "\n",
              "    .dataframe tbody tr th {\n",
              "        vertical-align: top;\n",
              "    }\n",
              "\n",
              "    .dataframe thead th {\n",
              "        text-align: right;\n",
              "    }\n",
              "</style>\n",
              "<table border=\"1\" class=\"dataframe\">\n",
              "  <thead>\n",
              "    <tr style=\"text-align: right;\">\n",
              "      <th></th>\n",
              "      <th>account_check_status</th>\n",
              "      <th>duration_in_month</th>\n",
              "      <th>credit_history</th>\n",
              "      <th>purpose</th>\n",
              "      <th>credit_amount</th>\n",
              "      <th>savings</th>\n",
              "      <th>present_emp_since</th>\n",
              "      <th>installment_as_income_perc</th>\n",
              "      <th>sex</th>\n",
              "      <th>personal _status</th>\n",
              "      <th>other_debtors</th>\n",
              "      <th>present_res_since</th>\n",
              "      <th>property</th>\n",
              "      <th>age</th>\n",
              "      <th>other_installment_plans</th>\n",
              "      <th>housing</th>\n",
              "      <th>credits_this_bank</th>\n",
              "      <th>job</th>\n",
              "      <th>people_under_maintenance</th>\n",
              "      <th>telephone</th>\n",
              "      <th>foreign_worker</th>\n",
              "      <th>proba</th>\n",
              "      <th>diff</th>\n",
              "    </tr>\n",
              "  </thead>\n",
              "  <tbody>\n",
              "    <tr>\n",
              "      <th>490</th>\n",
              "      <td>&lt; 0 DM</td>\n",
              "      <td>9</td>\n",
              "      <td>existing credits paid back duly till now</td>\n",
              "      <td>car (used)</td>\n",
              "      <td>654</td>\n",
              "      <td>... &lt; 100 DM</td>\n",
              "      <td>1 &lt;= ... &lt; 4 years</td>\n",
              "      <td>4</td>\n",
              "      <td>male</td>\n",
              "      <td>single</td>\n",
              "      <td>none</td>\n",
              "      <td>3</td>\n",
              "      <td>if not A121/A122 : car or other, not in attrib...</td>\n",
              "      <td>28</td>\n",
              "      <td>none</td>\n",
              "      <td>own</td>\n",
              "      <td>1</td>\n",
              "      <td>unskilled - resident</td>\n",
              "      <td>1</td>\n",
              "      <td>none</td>\n",
              "      <td>yes</td>\n",
              "      <td>0.153898</td>\n",
              "      <td>1</td>\n",
              "    </tr>\n",
              "    <tr>\n",
              "      <th>1090</th>\n",
              "      <td>&lt; 0 DM</td>\n",
              "      <td>9</td>\n",
              "      <td>existing credits paid back duly till now</td>\n",
              "      <td>retraining</td>\n",
              "      <td>654</td>\n",
              "      <td>... &lt; 100 DM</td>\n",
              "      <td>1 &lt;= ... &lt; 4 years</td>\n",
              "      <td>4</td>\n",
              "      <td>male</td>\n",
              "      <td>single</td>\n",
              "      <td>none</td>\n",
              "      <td>3</td>\n",
              "      <td>if not A121/A122 : car or other, not in attrib...</td>\n",
              "      <td>28</td>\n",
              "      <td>none</td>\n",
              "      <td>own</td>\n",
              "      <td>1</td>\n",
              "      <td>unskilled - resident</td>\n",
              "      <td>1</td>\n",
              "      <td>none</td>\n",
              "      <td>yes</td>\n",
              "      <td>0.279378</td>\n",
              "      <td>1</td>\n",
              "    </tr>\n",
              "    <tr>\n",
              "      <th>970</th>\n",
              "      <td>&lt; 0 DM</td>\n",
              "      <td>9</td>\n",
              "      <td>existing credits paid back duly till now</td>\n",
              "      <td>furniture/equipment</td>\n",
              "      <td>654</td>\n",
              "      <td>... &lt; 100 DM</td>\n",
              "      <td>1 &lt;= ... &lt; 4 years</td>\n",
              "      <td>4</td>\n",
              "      <td>male</td>\n",
              "      <td>single</td>\n",
              "      <td>none</td>\n",
              "      <td>3</td>\n",
              "      <td>if not A121/A122 : car or other, not in attrib...</td>\n",
              "      <td>28</td>\n",
              "      <td>none</td>\n",
              "      <td>own</td>\n",
              "      <td>1</td>\n",
              "      <td>unskilled - resident</td>\n",
              "      <td>1</td>\n",
              "      <td>none</td>\n",
              "      <td>yes</td>\n",
              "      <td>0.292198</td>\n",
              "      <td>1</td>\n",
              "    </tr>\n",
              "    <tr>\n",
              "      <th>10</th>\n",
              "      <td>&lt; 0 DM</td>\n",
              "      <td>9</td>\n",
              "      <td>existing credits paid back duly till now</td>\n",
              "      <td>domestic appliances</td>\n",
              "      <td>654</td>\n",
              "      <td>... &lt; 100 DM</td>\n",
              "      <td>1 &lt;= ... &lt; 4 years</td>\n",
              "      <td>4</td>\n",
              "      <td>male</td>\n",
              "      <td>single</td>\n",
              "      <td>none</td>\n",
              "      <td>3</td>\n",
              "      <td>if not A121/A122 : car or other, not in attrib...</td>\n",
              "      <td>28</td>\n",
              "      <td>none</td>\n",
              "      <td>own</td>\n",
              "      <td>1</td>\n",
              "      <td>unskilled - resident</td>\n",
              "      <td>1</td>\n",
              "      <td>none</td>\n",
              "      <td>yes</td>\n",
              "      <td>0.303239</td>\n",
              "      <td>1</td>\n",
              "    </tr>\n",
              "    <tr>\n",
              "      <th>610</th>\n",
              "      <td>&lt; 0 DM</td>\n",
              "      <td>9</td>\n",
              "      <td>existing credits paid back duly till now</td>\n",
              "      <td>business</td>\n",
              "      <td>654</td>\n",
              "      <td>... &lt; 100 DM</td>\n",
              "      <td>1 &lt;= ... &lt; 4 years</td>\n",
              "      <td>4</td>\n",
              "      <td>male</td>\n",
              "      <td>single</td>\n",
              "      <td>none</td>\n",
              "      <td>3</td>\n",
              "      <td>if not A121/A122 : car or other, not in attrib...</td>\n",
              "      <td>28</td>\n",
              "      <td>none</td>\n",
              "      <td>own</td>\n",
              "      <td>1</td>\n",
              "      <td>unskilled - resident</td>\n",
              "      <td>1</td>\n",
              "      <td>none</td>\n",
              "      <td>yes</td>\n",
              "      <td>0.341848</td>\n",
              "      <td>1</td>\n",
              "    </tr>\n",
              "  </tbody>\n",
              "</table>\n",
              "</div>"
            ],
            "text/plain": [
              "     account_check_status  duration_in_month  ...     proba diff\n",
              "490                < 0 DM                  9  ...  0.153898    1\n",
              "1090               < 0 DM                  9  ...  0.279378    1\n",
              "970                < 0 DM                  9  ...  0.292198    1\n",
              "10                 < 0 DM                  9  ...  0.303239    1\n",
              "610                < 0 DM                  9  ...  0.341848    1\n",
              "\n",
              "[5 rows x 23 columns]"
            ]
          },
          "metadata": {
            "tags": []
          },
          "execution_count": 15
        }
      ]
    },
    {
      "cell_type": "code",
      "metadata": {
        "id": "OPF8B9ij9PAO"
      },
      "source": [
        "def print_diff(new_comb, old_comb):\n",
        "    diff_comb = (new_comb != old_comb)\n",
        "    diff_pd = pd.DataFrame([old_comb[diff_comb], new_comb[diff_comb]], index=['old', 'new']).transpose()\n",
        "\n",
        "    max_ind = max([len(x) for x in diff_pd.index])\n",
        "    max_old = max([len(x) for x in diff_pd.old])\n",
        "    max_new = max([len(x) for x in diff_pd.new])\n",
        "\n",
        "    for i in new_comb[diff_comb].index :\n",
        "        print(f'{i:<{max_ind}} : {diff_pd.old[i]:<{max_old}} --> {diff_pd.new[i]:<{max_new}}')"
      ],
      "execution_count": null,
      "outputs": []
    },
    {
      "cell_type": "code",
      "metadata": {
        "colab": {
          "base_uri": "https://localhost:8080/"
        },
        "id": "7dMwTfdi9PAP",
        "outputId": "39000872-a5d8-4c14-8f02-ca954aa21c3d"
      },
      "source": [
        "print_diff(valid_X.iloc[0][var_values], X.iloc[idx][var_values])"
      ],
      "execution_count": null,
      "outputs": [
        {
          "output_type": "stream",
          "text": [
            "purpose : car (new) --> car (used)\n"
          ],
          "name": "stdout"
        }
      ]
    },
    {
      "cell_type": "code",
      "metadata": {
        "id": "nYhUvXqF9PAP"
      },
      "source": [
        "X_ref = X.loc[idx_ref]"
      ],
      "execution_count": null,
      "outputs": []
    },
    {
      "cell_type": "code",
      "metadata": {
        "colab": {
          "resources": {
            "http://localhost:8080/nbextensions/google.colab/files.js": {
              "data": "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",
              "ok": true,
              "headers": [
                [
                  "content-type",
                  "application/javascript"
                ]
              ],
              "status": 200,
              "status_text": ""
            }
          },
          "base_uri": "https://localhost:8080/",
          "height": 72
        },
        "id": "ysOVwzzk-fSs",
        "outputId": "6fd24795-e112-4a8c-f727-627aaed34d7e"
      },
      "source": [
        "from google.colab import files\n",
        "uploaded = files.upload()"
      ],
      "execution_count": null,
      "outputs": [
        {
          "output_type": "display_data",
          "data": {
            "text/html": [
              "\n",
              "     <input type=\"file\" id=\"files-aaf61229-23bb-4dbd-bf9e-347f26aab98f\" name=\"files[]\" multiple disabled\n",
              "        style=\"border:none\" />\n",
              "     <output id=\"result-aaf61229-23bb-4dbd-bf9e-347f26aab98f\">\n",
              "      Upload widget is only available when the cell has been executed in the\n",
              "      current browser session. Please rerun this cell to enable.\n",
              "      </output>\n",
              "      <script src=\"/nbextensions/google.colab/files.js\"></script> "
            ],
            "text/plain": [
              "<IPython.core.display.HTML object>"
            ]
          },
          "metadata": {
            "tags": []
          }
        },
        {
          "output_type": "stream",
          "text": [
            "Saving all_X.csv to all_X.csv\n"
          ],
          "name": "stdout"
        }
      ]
    },
    {
      "cell_type": "code",
      "metadata": {
        "id": "kQc2N0i49PAP"
      },
      "source": [
        "#all_X = pd.DataFrame([X.iloc[idx][fix_values].tolist() + list(p)  + [idx] for idx in tqdm(idx_ref) for p in prod],\n",
        "#                         columns=fix_values + var_values + ['index_old'])\n",
        "#all_X[list(X.columns) + ['index_old']].to_csv('all_X.csv', index=False)\n",
        "all_X = pd.read_csv('all_X.csv')\n",
        "#all_X = pd.read_csv('Data/all_X.csv')\n",
        "all_X['proba'] = logreg.predict_proba(all_X.drop('index_old', axis=1))[:, 1]\n",
        "\n",
        "X_false = X.loc[idx_ref]\n",
        "X_false = X_false.assign(proba = logreg.predict_proba(X_false)[:, 1])\n",
        "\n",
        "X_false = X_false.assign(proba_min = all_X.groupby('index_old').apply(lambda x: x.sort_values('proba').head(1)) \\\n",
        "                                                                .set_index('index_old').proba)"
      ],
      "execution_count": null,
      "outputs": []
    },
    {
      "cell_type": "code",
      "metadata": {
        "colab": {
          "base_uri": "https://localhost:8080/"
        },
        "id": "VDUGIzZf9PAP",
        "outputId": "b25315b7-a856-40d7-d858-a9863c351901"
      },
      "source": [
        "len(X_false)"
      ],
      "execution_count": null,
      "outputs": [
        {
          "output_type": "execute_result",
          "data": {
            "text/plain": [
              "231"
            ]
          },
          "metadata": {
            "tags": []
          },
          "execution_count": 22
        }
      ]
    },
    {
      "cell_type": "code",
      "metadata": {
        "id": "s0q8ax4q9PAP",
        "outputId": "f19cff89-d7a5-4533-f2a2-885b62ebece6"
      },
      "source": [
        "len(X_false[X_false.proba_min < 0.5])"
      ],
      "execution_count": null,
      "outputs": [
        {
          "output_type": "execute_result",
          "data": {
            "text/plain": [
              "222"
            ]
          },
          "metadata": {
            "tags": []
          },
          "execution_count": 19
        }
      ]
    },
    {
      "cell_type": "code",
      "metadata": {
        "id": "8jbvjQxQ9PAQ",
        "outputId": "f65eebee-bfea-4943-f426-996bdc293e7f"
      },
      "source": [
        "(X_false.proba - X_false.proba_min).plot.hist()\n",
        "plt.show()"
      ],
      "execution_count": null,
      "outputs": [
        {
          "output_type": "display_data",
          "data": {
            "image/png": "[encoded data removed]",
            "text/plain": [
              "<Figure size 432x288 with 1 Axes>"
            ]
          },
          "metadata": {
            "tags": [],
            "needs_background": "light"
          }
        }
      ]
    },
    {
      "cell_type": "code",
      "metadata": {
        "id": "1qe_Xi3k9PAQ",
        "outputId": "8754cefd-90a2-444f-a876-d8deb3f9cb1d"
      },
      "source": [
        "X_false[X_false.proba_min >= 0.5]"
      ],
      "execution_count": null,
      "outputs": [
        {
          "output_type": "execute_result",
          "data": {
            "text/html": [
              "<div>\n",
              "<style scoped>\n",
              "    .dataframe tbody tr th:only-of-type {\n",
              "        vertical-align: middle;\n",
              "    }\n",
              "\n",
              "    .dataframe tbody tr th {\n",
              "        vertical-align: top;\n",
              "    }\n",
              "\n",
              "    .dataframe thead th {\n",
              "        text-align: right;\n",
              "    }\n",
              "</style>\n",
              "<table border=\"1\" class=\"dataframe\">\n",
              "  <thead>\n",
              "    <tr style=\"text-align: right;\">\n",
              "      <th></th>\n",
              "      <th>account_check_status</th>\n",
              "      <th>duration_in_month</th>\n",
              "      <th>credit_history</th>\n",
              "      <th>purpose</th>\n",
              "      <th>credit_amount</th>\n",
              "      <th>savings</th>\n",
              "      <th>present_emp_since</th>\n",
              "      <th>installment_as_income_perc</th>\n",
              "      <th>sex</th>\n",
              "      <th>personal _status</th>\n",
              "      <th>...</th>\n",
              "      <th>age</th>\n",
              "      <th>other_installment_plans</th>\n",
              "      <th>housing</th>\n",
              "      <th>credits_this_bank</th>\n",
              "      <th>job</th>\n",
              "      <th>people_under_maintenance</th>\n",
              "      <th>telephone</th>\n",
              "      <th>foreign_worker</th>\n",
              "      <th>proba</th>\n",
              "      <th>proba_min</th>\n",
              "    </tr>\n",
              "  </thead>\n",
              "  <tbody>\n",
              "    <tr>\n",
              "      <th>29</th>\n",
              "      <td>&lt; 0 DM</td>\n",
              "      <td>60</td>\n",
              "      <td>delay in paying off in the past</td>\n",
              "      <td>business</td>\n",
              "      <td>6836</td>\n",
              "      <td>... &lt; 100 DM</td>\n",
              "      <td>.. &gt;= 7 years</td>\n",
              "      <td>3</td>\n",
              "      <td>male</td>\n",
              "      <td>single</td>\n",
              "      <td>...</td>\n",
              "      <td>63</td>\n",
              "      <td>none</td>\n",
              "      <td>own</td>\n",
              "      <td>2</td>\n",
              "      <td>skilled employee / official</td>\n",
              "      <td>1</td>\n",
              "      <td>yes, registered under the customers name</td>\n",
              "      <td>yes</td>\n",
              "      <td>0.860025</td>\n",
              "      <td>0.510119</td>\n",
              "    </tr>\n",
              "    <tr>\n",
              "      <th>95</th>\n",
              "      <td>0 &lt;= ... &lt; 200 DM</td>\n",
              "      <td>54</td>\n",
              "      <td>no credits taken/ all credits paid back duly</td>\n",
              "      <td>business</td>\n",
              "      <td>15945</td>\n",
              "      <td>... &lt; 100 DM</td>\n",
              "      <td>... &lt; 1 year</td>\n",
              "      <td>3</td>\n",
              "      <td>male</td>\n",
              "      <td>single</td>\n",
              "      <td>...</td>\n",
              "      <td>58</td>\n",
              "      <td>none</td>\n",
              "      <td>rent</td>\n",
              "      <td>1</td>\n",
              "      <td>skilled employee / official</td>\n",
              "      <td>1</td>\n",
              "      <td>yes, registered under the customers name</td>\n",
              "      <td>yes</td>\n",
              "      <td>0.925281</td>\n",
              "      <td>0.646397</td>\n",
              "    </tr>\n",
              "    <tr>\n",
              "      <th>374</th>\n",
              "      <td>0 &lt;= ... &lt; 200 DM</td>\n",
              "      <td>60</td>\n",
              "      <td>all credits at this bank paid back duly</td>\n",
              "      <td>furniture/equipment</td>\n",
              "      <td>14782</td>\n",
              "      <td>100 &lt;= ... &lt; 500 DM</td>\n",
              "      <td>.. &gt;= 7 years</td>\n",
              "      <td>3</td>\n",
              "      <td>female</td>\n",
              "      <td>divorced</td>\n",
              "      <td>...</td>\n",
              "      <td>60</td>\n",
              "      <td>bank</td>\n",
              "      <td>for free</td>\n",
              "      <td>2</td>\n",
              "      <td>management/ self-employed/ highly qualified em...</td>\n",
              "      <td>1</td>\n",
              "      <td>yes, registered under the customers name</td>\n",
              "      <td>yes</td>\n",
              "      <td>0.955069</td>\n",
              "      <td>0.725386</td>\n",
              "    </tr>\n",
              "    <tr>\n",
              "      <th>538</th>\n",
              "      <td>&lt; 0 DM</td>\n",
              "      <td>48</td>\n",
              "      <td>existing credits paid back duly till now</td>\n",
              "      <td>car (new)</td>\n",
              "      <td>7763</td>\n",
              "      <td>... &lt; 100 DM</td>\n",
              "      <td>.. &gt;= 7 years</td>\n",
              "      <td>4</td>\n",
              "      <td>male</td>\n",
              "      <td>single</td>\n",
              "      <td>...</td>\n",
              "      <td>42</td>\n",
              "      <td>bank</td>\n",
              "      <td>for free</td>\n",
              "      <td>1</td>\n",
              "      <td>management/ self-employed/ highly qualified em...</td>\n",
              "      <td>1</td>\n",
              "      <td>none</td>\n",
              "      <td>yes</td>\n",
              "      <td>0.936464</td>\n",
              "      <td>0.611765</td>\n",
              "    </tr>\n",
              "    <tr>\n",
              "      <th>714</th>\n",
              "      <td>0 &lt;= ... &lt; 200 DM</td>\n",
              "      <td>60</td>\n",
              "      <td>existing credits paid back duly till now</td>\n",
              "      <td>car (new)</td>\n",
              "      <td>14027</td>\n",
              "      <td>... &lt; 100 DM</td>\n",
              "      <td>4 &lt;= ... &lt; 7 years</td>\n",
              "      <td>4</td>\n",
              "      <td>male</td>\n",
              "      <td>single</td>\n",
              "      <td>...</td>\n",
              "      <td>27</td>\n",
              "      <td>none</td>\n",
              "      <td>own</td>\n",
              "      <td>1</td>\n",
              "      <td>management/ self-employed/ highly qualified em...</td>\n",
              "      <td>1</td>\n",
              "      <td>yes, registered under the customers name</td>\n",
              "      <td>yes</td>\n",
              "      <td>0.932725</td>\n",
              "      <td>0.701115</td>\n",
              "    </tr>\n",
              "    <tr>\n",
              "      <th>728</th>\n",
              "      <td>0 &lt;= ... &lt; 200 DM</td>\n",
              "      <td>48</td>\n",
              "      <td>all credits at this bank paid back duly</td>\n",
              "      <td>business</td>\n",
              "      <td>6416</td>\n",
              "      <td>... &lt; 100 DM</td>\n",
              "      <td>.. &gt;= 7 years</td>\n",
              "      <td>4</td>\n",
              "      <td>female</td>\n",
              "      <td>divorced</td>\n",
              "      <td>...</td>\n",
              "      <td>59</td>\n",
              "      <td>none</td>\n",
              "      <td>rent</td>\n",
              "      <td>1</td>\n",
              "      <td>skilled employee / official</td>\n",
              "      <td>1</td>\n",
              "      <td>none</td>\n",
              "      <td>yes</td>\n",
              "      <td>0.941864</td>\n",
              "      <td>0.550679</td>\n",
              "    </tr>\n",
              "    <tr>\n",
              "      <th>832</th>\n",
              "      <td>&lt; 0 DM</td>\n",
              "      <td>45</td>\n",
              "      <td>no credits taken/ all credits paid back duly</td>\n",
              "      <td>business</td>\n",
              "      <td>11816</td>\n",
              "      <td>... &lt; 100 DM</td>\n",
              "      <td>.. &gt;= 7 years</td>\n",
              "      <td>2</td>\n",
              "      <td>male</td>\n",
              "      <td>single</td>\n",
              "      <td>...</td>\n",
              "      <td>29</td>\n",
              "      <td>none</td>\n",
              "      <td>rent</td>\n",
              "      <td>2</td>\n",
              "      <td>skilled employee / official</td>\n",
              "      <td>1</td>\n",
              "      <td>none</td>\n",
              "      <td>yes</td>\n",
              "      <td>0.868788</td>\n",
              "      <td>0.528786</td>\n",
              "    </tr>\n",
              "    <tr>\n",
              "      <th>927</th>\n",
              "      <td>&lt; 0 DM</td>\n",
              "      <td>48</td>\n",
              "      <td>existing credits paid back duly till now</td>\n",
              "      <td>car (used)</td>\n",
              "      <td>10297</td>\n",
              "      <td>... &lt; 100 DM</td>\n",
              "      <td>4 &lt;= ... &lt; 7 years</td>\n",
              "      <td>4</td>\n",
              "      <td>male</td>\n",
              "      <td>single</td>\n",
              "      <td>...</td>\n",
              "      <td>39</td>\n",
              "      <td>stores</td>\n",
              "      <td>for free</td>\n",
              "      <td>3</td>\n",
              "      <td>skilled employee / official</td>\n",
              "      <td>2</td>\n",
              "      <td>yes, registered under the customers name</td>\n",
              "      <td>yes</td>\n",
              "      <td>0.747218</td>\n",
              "      <td>0.691652</td>\n",
              "    </tr>\n",
              "    <tr>\n",
              "      <th>973</th>\n",
              "      <td>&lt; 0 DM</td>\n",
              "      <td>60</td>\n",
              "      <td>existing credits paid back duly till now</td>\n",
              "      <td>business</td>\n",
              "      <td>7297</td>\n",
              "      <td>... &lt; 100 DM</td>\n",
              "      <td>.. &gt;= 7 years</td>\n",
              "      <td>4</td>\n",
              "      <td>male</td>\n",
              "      <td>single</td>\n",
              "      <td>...</td>\n",
              "      <td>36</td>\n",
              "      <td>none</td>\n",
              "      <td>rent</td>\n",
              "      <td>1</td>\n",
              "      <td>skilled employee / official</td>\n",
              "      <td>1</td>\n",
              "      <td>none</td>\n",
              "      <td>yes</td>\n",
              "      <td>0.943129</td>\n",
              "      <td>0.737575</td>\n",
              "    </tr>\n",
              "  </tbody>\n",
              "</table>\n",
              "<p>9 rows × 23 columns</p>\n",
              "</div>"
            ],
            "text/plain": [
              "    account_check_status  duration_in_month  \\\n",
              "29                < 0 DM                 60   \n",
              "95     0 <= ... < 200 DM                 54   \n",
              "374    0 <= ... < 200 DM                 60   \n",
              "538               < 0 DM                 48   \n",
              "714    0 <= ... < 200 DM                 60   \n",
              "728    0 <= ... < 200 DM                 48   \n",
              "832               < 0 DM                 45   \n",
              "927               < 0 DM                 48   \n",
              "973               < 0 DM                 60   \n",
              "\n",
              "                                   credit_history              purpose  \\\n",
              "29                delay in paying off in the past             business   \n",
              "95   no credits taken/ all credits paid back duly             business   \n",
              "374       all credits at this bank paid back duly  furniture/equipment   \n",
              "538      existing credits paid back duly till now            car (new)   \n",
              "714      existing credits paid back duly till now            car (new)   \n",
              "728       all credits at this bank paid back duly             business   \n",
              "832  no credits taken/ all credits paid back duly             business   \n",
              "927      existing credits paid back duly till now           car (used)   \n",
              "973      existing credits paid back duly till now             business   \n",
              "\n",
              "     credit_amount              savings   present_emp_since  \\\n",
              "29            6836         ... < 100 DM       .. >= 7 years   \n",
              "95           15945         ... < 100 DM        ... < 1 year   \n",
              "374          14782  100 <= ... < 500 DM       .. >= 7 years   \n",
              "538           7763         ... < 100 DM       .. >= 7 years   \n",
              "714          14027         ... < 100 DM  4 <= ... < 7 years   \n",
              "728           6416         ... < 100 DM       .. >= 7 years   \n",
              "832          11816         ... < 100 DM       .. >= 7 years   \n",
              "927          10297         ... < 100 DM  4 <= ... < 7 years   \n",
              "973           7297         ... < 100 DM       .. >= 7 years   \n",
              "\n",
              "     installment_as_income_perc     sex personal _status  ... age  \\\n",
              "29                            3    male           single  ...  63   \n",
              "95                            3    male           single  ...  58   \n",
              "374                           3  female         divorced  ...  60   \n",
              "538                           4    male           single  ...  42   \n",
              "714                           4    male           single  ...  27   \n",
              "728                           4  female         divorced  ...  59   \n",
              "832                           2    male           single  ...  29   \n",
              "927                           4    male           single  ...  39   \n",
              "973                           4    male           single  ...  36   \n",
              "\n",
              "     other_installment_plans   housing  credits_this_bank  \\\n",
              "29                      none       own                  2   \n",
              "95                      none      rent                  1   \n",
              "374                     bank  for free                  2   \n",
              "538                     bank  for free                  1   \n",
              "714                     none       own                  1   \n",
              "728                     none      rent                  1   \n",
              "832                     none      rent                  2   \n",
              "927                   stores  for free                  3   \n",
              "973                     none      rent                  1   \n",
              "\n",
              "                                                   job  \\\n",
              "29                         skilled employee / official   \n",
              "95                         skilled employee / official   \n",
              "374  management/ self-employed/ highly qualified em...   \n",
              "538  management/ self-employed/ highly qualified em...   \n",
              "714  management/ self-employed/ highly qualified em...   \n",
              "728                        skilled employee / official   \n",
              "832                        skilled employee / official   \n",
              "927                        skilled employee / official   \n",
              "973                        skilled employee / official   \n",
              "\n",
              "    people_under_maintenance                                 telephone  \\\n",
              "29                         1  yes, registered under the customers name   \n",
              "95                         1  yes, registered under the customers name   \n",
              "374                        1  yes, registered under the customers name   \n",
              "538                        1                                      none   \n",
              "714                        1  yes, registered under the customers name   \n",
              "728                        1                                      none   \n",
              "832                        1                                      none   \n",
              "927                        2  yes, registered under the customers name   \n",
              "973                        1                                      none   \n",
              "\n",
              "    foreign_worker     proba proba_min  \n",
              "29             yes  0.860025  0.510119  \n",
              "95             yes  0.925281  0.646397  \n",
              "374            yes  0.955069  0.725386  \n",
              "538            yes  0.936464  0.611765  \n",
              "714            yes  0.932725  0.701115  \n",
              "728            yes  0.941864  0.550679  \n",
              "832            yes  0.868788  0.528786  \n",
              "927            yes  0.747218  0.691652  \n",
              "973            yes  0.943129  0.737575  \n",
              "\n",
              "[9 rows x 23 columns]"
            ]
          },
          "metadata": {
            "tags": []
          },
          "execution_count": 21
        }
      ]
    },
    {
      "cell_type": "markdown",
      "metadata": {
        "id": "lWWIGXvw9PAQ"
      },
      "source": [
        "# Poisoning\n",
        "\n",
        "On remarque qu'il y a certaine personne pour qui la modification de variables difficilement vérifiables n'est pas suffisant. \n",
        "On passe donc à la deuxième attaque *poisoning*. On a vu précédemment que l'individu *232* fait partie des personnes ne pouvant pas utiliser la triche pour pouvoir être accepté.\n",
        "\n",
        "On va rajouter sa ligne dans la base de donnée d'entrainement et voir si cela a un impact."
      ]
    },
    {
      "cell_type": "code",
      "metadata": {
        "id": "SIgt9anD9PAR"
      },
      "source": [
        "y = credit['default']\n",
        "X = credit.drop(columns=\"default\")\n",
        "\n",
        "ind = X.iloc[[95]]"
      ],
      "execution_count": null,
      "outputs": []
    },
    {
      "cell_type": "code",
      "metadata": {
        "id": "RS6o-cIP9PAR",
        "outputId": "ba1fddab-6e30-4c3a-a26b-1a7a32b50a14"
      },
      "source": [
        "ind"
      ],
      "execution_count": null,
      "outputs": [
        {
          "output_type": "execute_result",
          "data": {
            "text/html": [
              "<div>\n",
              "<style scoped>\n",
              "    .dataframe tbody tr th:only-of-type {\n",
              "        vertical-align: middle;\n",
              "    }\n",
              "\n",
              "    .dataframe tbody tr th {\n",
              "        vertical-align: top;\n",
              "    }\n",
              "\n",
              "    .dataframe thead th {\n",
              "        text-align: right;\n",
              "    }\n",
              "</style>\n",
              "<table border=\"1\" class=\"dataframe\">\n",
              "  <thead>\n",
              "    <tr style=\"text-align: right;\">\n",
              "      <th></th>\n",
              "      <th>account_check_status</th>\n",
              "      <th>duration_in_month</th>\n",
              "      <th>credit_history</th>\n",
              "      <th>purpose</th>\n",
              "      <th>credit_amount</th>\n",
              "      <th>savings</th>\n",
              "      <th>present_emp_since</th>\n",
              "      <th>installment_as_income_perc</th>\n",
              "      <th>sex</th>\n",
              "      <th>personal _status</th>\n",
              "      <th>...</th>\n",
              "      <th>present_res_since</th>\n",
              "      <th>property</th>\n",
              "      <th>age</th>\n",
              "      <th>other_installment_plans</th>\n",
              "      <th>housing</th>\n",
              "      <th>credits_this_bank</th>\n",
              "      <th>job</th>\n",
              "      <th>people_under_maintenance</th>\n",
              "      <th>telephone</th>\n",
              "      <th>foreign_worker</th>\n",
              "    </tr>\n",
              "  </thead>\n",
              "  <tbody>\n",
              "    <tr>\n",
              "      <th>95</th>\n",
              "      <td>0 &lt;= ... &lt; 200 DM</td>\n",
              "      <td>54</td>\n",
              "      <td>no credits taken/ all credits paid back duly</td>\n",
              "      <td>business</td>\n",
              "      <td>15945</td>\n",
              "      <td>... &lt; 100 DM</td>\n",
              "      <td>... &lt; 1 year</td>\n",
              "      <td>3</td>\n",
              "      <td>male</td>\n",
              "      <td>single</td>\n",
              "      <td>...</td>\n",
              "      <td>4</td>\n",
              "      <td>unknown / no property</td>\n",
              "      <td>58</td>\n",
              "      <td>none</td>\n",
              "      <td>rent</td>\n",
              "      <td>1</td>\n",
              "      <td>skilled employee / official</td>\n",
              "      <td>1</td>\n",
              "      <td>yes, registered under the customers name</td>\n",
              "      <td>yes</td>\n",
              "    </tr>\n",
              "  </tbody>\n",
              "</table>\n",
              "<p>1 rows × 21 columns</p>\n",
              "</div>"
            ],
            "text/plain": [
              "   account_check_status  duration_in_month  \\\n",
              "95    0 <= ... < 200 DM                 54   \n",
              "\n",
              "                                  credit_history   purpose  credit_amount  \\\n",
              "95  no credits taken/ all credits paid back duly  business          15945   \n",
              "\n",
              "         savings present_emp_since  installment_as_income_perc   sex  \\\n",
              "95  ... < 100 DM      ... < 1 year                           3  male   \n",
              "\n",
              "   personal _status  ... present_res_since               property age  \\\n",
              "95           single  ...                 4  unknown / no property  58   \n",
              "\n",
              "    other_installment_plans housing credits_this_bank  \\\n",
              "95                     none    rent                 1   \n",
              "\n",
              "                            job people_under_maintenance  \\\n",
              "95  skilled employee / official                        1   \n",
              "\n",
              "                                   telephone foreign_worker  \n",
              "95  yes, registered under the customers name            yes  \n",
              "\n",
              "[1 rows x 21 columns]"
            ]
          },
          "metadata": {
            "tags": []
          },
          "execution_count": 23
        }
      ]
    },
    {
      "cell_type": "code",
      "metadata": {
        "id": "qZlJs5Ph9PAR"
      },
      "source": [
        "n = 8\n",
        "X_train_pois = X_train.append([ind]*n, ignore_index=True)\n",
        "y_train_pois = pd.Series(list(y_train) + [0]*n)"
      ],
      "execution_count": null,
      "outputs": []
    },
    {
      "cell_type": "code",
      "metadata": {
        "id": "52osSh3O9PAR",
        "outputId": "c58c9e59-0543-4de0-add6-0fb0e8cbdb6b"
      },
      "source": [
        "logreg = model.fit(X_train, y_train)\n",
        "\n",
        "mesure_reg(logreg, X_test, y_test)"
      ],
      "execution_count": null,
      "outputs": [
        {
          "output_type": "stream",
          "text": [
            "Sensitivity_recall :  0.7880794701986755\n",
            "Specificity:  0.5714285714285714\n",
            "Precision:  0.85\n",
            "Accuracy:  0.735\n"
          ],
          "name": "stdout"
        },
        {
          "output_type": "display_data",
          "data": {
            "image/png": "[encoded data removed]",
            "text/plain": [
              "<Figure size 432x288 with 2 Axes>"
            ]
          },
          "metadata": {
            "tags": [],
            "needs_background": "light"
          }
        }
      ]
    },
    {
      "cell_type": "code",
      "metadata": {
        "id": "CjJmpuH89PAR",
        "outputId": "16a08aae-61dc-4483-c852-118bc7b75317"
      },
      "source": [
        "logreg.predict_proba(ind)[0,1]"
      ],
      "execution_count": null,
      "outputs": [
        {
          "output_type": "execute_result",
          "data": {
            "text/plain": [
              "0.9252811288880369"
            ]
          },
          "metadata": {
            "tags": []
          },
          "execution_count": 26
        }
      ]
    },
    {
      "cell_type": "code",
      "metadata": {
        "id": "6azPB5lV9PAS",
        "outputId": "5e598e85-dcd9-45d2-c951-f28a91a88cf6"
      },
      "source": [
        "logreg_pois = model.fit(X_train_pois, y_train_pois)\n",
        "\n",
        "mesure_reg(logreg_pois, X_test, y_test)"
      ],
      "execution_count": null,
      "outputs": [
        {
          "output_type": "stream",
          "text": [
            "Sensitivity_recall :  0.7792207792207793\n",
            "Specificity:  0.5652173913043478\n",
            "Precision:  0.8571428571428571\n",
            "Accuracy:  0.73\n"
          ],
          "name": "stdout"
        },
        {
          "output_type": "display_data",
          "data": {
            "image/png": "[encoded data removed]",
            "text/plain": [
              "<Figure size 432x288 with 2 Axes>"
            ]
          },
          "metadata": {
            "tags": [],
            "needs_background": "light"
          }
        }
      ]
    },
    {
      "cell_type": "code",
      "metadata": {
        "id": "A6Qv9K5w9PAS",
        "outputId": "3d8c0148-1c11-4cac-d688-6eaf9fb138db"
      },
      "source": [
        "logreg_pois.predict_proba(ind)[0,1]"
      ],
      "execution_count": null,
      "outputs": [
        {
          "output_type": "execute_result",
          "data": {
            "text/plain": [
              "0.47792864829500725"
            ]
          },
          "metadata": {
            "tags": []
          },
          "execution_count": 28
        }
      ]
    },
    {
      "cell_type": "markdown",
      "metadata": {
        "id": "hnAyY7u59PAS"
      },
      "source": [
        "On automatise la recherche du nombre minimum de copie pour passer."
      ]
    },
    {
      "cell_type": "code",
      "metadata": {
        "id": "kMhFxRHO9PAS"
      },
      "source": [
        "def min_pois(ind):\n",
        "    n = 0\n",
        "    X_train_pois = X_train\n",
        "    y_train_pois = y_train\n",
        "    \n",
        "    while model.fit(X_train_pois, y_train_pois).predict_proba(ind)[0,1] > 0.5:\n",
        "        n += 1\n",
        "        X_train_pois = X_train_pois.append([ind], ignore_index=True)\n",
        "        y_train_pois = pd.Series(list(y_train_pois) + [0])\n",
        "        \n",
        "    return n"
      ],
      "execution_count": null,
      "outputs": []
    },
    {
      "cell_type": "code",
      "metadata": {
        "id": "Z4UD3msG9PAS",
        "outputId": "58d40118-abb5-4343-c734-9b8ef0e8cd8c"
      },
      "source": [
        "min_pois(ind)"
      ],
      "execution_count": null,
      "outputs": [
        {
          "output_type": "execute_result",
          "data": {
            "text/plain": [
              "8"
            ]
          },
          "metadata": {
            "tags": []
          },
          "execution_count": 30
        }
      ]
    },
    {
      "cell_type": "markdown",
      "metadata": {
        "id": "3Zi_xSzh9PAT"
      },
      "source": [
        "On regarde la distribution pour les personnes qui ont besoin du poisoning"
      ]
    },
    {
      "cell_type": "code",
      "metadata": {
        "id": "C34RFkty9PAT"
      },
      "source": [
        "%%capture\n",
        "list_min = X_false[X_false.proba_min > 0.5].apply(lambda x: min_pois(x.to_frame().transpose()), axis=1)"
      ],
      "execution_count": null,
      "outputs": []
    },
    {
      "cell_type": "code",
      "metadata": {
        "id": "o5085CX_9PAT",
        "outputId": "43645639-a36b-49d4-e739-d4f24de253f4"
      },
      "source": [
        "list_min.plot.hist()\n",
        "plt.show()"
      ],
      "execution_count": null,
      "outputs": [
        {
          "output_type": "display_data",
          "data": {
            "image/png": "[encoded data removed]",
            "text/plain": [
              "<Figure size 432x288 with 1 Axes>"
            ]
          },
          "metadata": {
            "tags": [],
            "needs_background": "light"
          }
        }
      ]
    },
    {
      "cell_type": "markdown",
      "metadata": {
        "id": "GG9rDiZX9PAT"
      },
      "source": [
        "On peut coupler les deux premières attaques pour avoir encore moins de copie à rajouter."
      ]
    },
    {
      "cell_type": "code",
      "metadata": {
        "id": "xYlhFnr79PAT"
      },
      "source": [
        "ind_best_comb = all_X[all_X['index_old'] == ind.index[0]].sort_values(by='proba').head(1)  \\\n",
        "                                            .drop(['index_old', 'proba'], axis=1)"
      ],
      "execution_count": null,
      "outputs": []
    },
    {
      "cell_type": "code",
      "metadata": {
        "id": "DC_hCZzW9PAT",
        "outputId": "97280f5a-b80f-4397-e4b5-003171096db7"
      },
      "source": [
        "print_diff(ind_best_comb.iloc[0], ind.iloc[0])"
      ],
      "execution_count": null,
      "outputs": [
        {
          "output_type": "stream",
          "text": [
            "purpose           : business                    --> car (used)                                                   \n",
            "present_emp_since : ... < 1 year                --> 4 <= ... < 7 years                                           \n",
            "job               : skilled employee / official --> management/ self-employed/ highly qualified employee/ officer\n"
          ],
          "name": "stdout"
        }
      ]
    },
    {
      "cell_type": "code",
      "metadata": {
        "id": "sT-Go59E9PAU"
      },
      "source": [
        "n = 2\n",
        "X_train_pois_best = X_train.append([ind_best_comb]*n, ignore_index=True)\n",
        "y_train_pois_best = pd.Series(list(y_train) + [0]*n)"
      ],
      "execution_count": null,
      "outputs": []
    },
    {
      "cell_type": "code",
      "metadata": {
        "id": "NQuMHYoo9PAU",
        "outputId": "becfcd48-d109-48c5-bb56-08cb098fda83"
      },
      "source": [
        "logreg_pois_best = model.fit(X_train_pois_best, y_train_pois_best)\n",
        "\n",
        "mesure_reg(logreg_pois_best, X_test, y_test)"
      ],
      "execution_count": null,
      "outputs": [
        {
          "output_type": "stream",
          "text": [
            "Sensitivity_recall :  0.7828947368421053\n",
            "Specificity:  0.5625\n",
            "Precision:  0.85\n",
            "Accuracy:  0.73\n"
          ],
          "name": "stdout"
        },
        {
          "output_type": "display_data",
          "data": {
            "image/png": "[encoded data removed]",
            "text/plain": [
              "<Figure size 432x288 with 2 Axes>"
            ]
          },
          "metadata": {
            "tags": [],
            "needs_background": "light"
          }
        }
      ]
    },
    {
      "cell_type": "code",
      "metadata": {
        "id": "54ONIwKm9PAU",
        "outputId": "df994b70-df4e-4abe-a0d7-c89ca4bd2b85"
      },
      "source": [
        "logreg_pois_best.predict_proba(ind_best_comb)[0,1]"
      ],
      "execution_count": null,
      "outputs": [
        {
          "output_type": "execute_result",
          "data": {
            "text/plain": [
              "0.47038082777460294"
            ]
          },
          "metadata": {
            "tags": []
          },
          "execution_count": 37
        }
      ]
    },
    {
      "cell_type": "markdown",
      "metadata": {
        "id": "EYDjfFGu9PAU"
      },
      "source": [
        "On automatise"
      ]
    },
    {
      "cell_type": "code",
      "metadata": {
        "id": "kxbyxFmv9PAU"
      },
      "source": [
        "def min_pois_best_comb(ind, print_chan=True):\n",
        "    ind_best_comb = all_X[all_X['index_old'] == ind.index[0]].sort_values(by='proba').head(1)  \\\n",
        "                                            .drop(['index_old', 'proba'], axis=1)\n",
        "\n",
        "    print_diff(ind_best_comb.iloc[0], ind.iloc[0]) if print_chan else ...\n",
        "    \n",
        "    n = 0\n",
        "    X_train_pois = X_train\n",
        "    y_train_pois = y_train\n",
        "    \n",
        "    while model.fit(X_train_pois, y_train_pois).predict_proba(ind_best_comb)[0,1] > 0.5:\n",
        "        n += 1\n",
        "        X_train_pois = X_train_pois.append([ind_best_comb], ignore_index=True)\n",
        "        y_train_pois = pd.Series(list(y_train_pois) + [0])\n",
        "        \n",
        "    return n"
      ],
      "execution_count": null,
      "outputs": []
    },
    {
      "cell_type": "code",
      "metadata": {
        "id": "lgSJY44K9PAV",
        "outputId": "1aad9b71-41bc-4aae-e1bb-fbf3a12a51d5"
      },
      "source": [
        "min_pois_best_comb(ind)"
      ],
      "execution_count": null,
      "outputs": [
        {
          "output_type": "stream",
          "text": [
            "purpose           : business                    --> car (used)                                                   \n",
            "present_emp_since : ... < 1 year                --> 4 <= ... < 7 years                                           \n",
            "job               : skilled employee / official --> management/ self-employed/ highly qualified employee/ officer\n"
          ],
          "name": "stdout"
        },
        {
          "output_type": "execute_result",
          "data": {
            "text/plain": [
              "2"
            ]
          },
          "metadata": {
            "tags": []
          },
          "execution_count": 39
        }
      ]
    },
    {
      "cell_type": "code",
      "metadata": {
        "id": "Qr7UMvlJ9PAV"
      },
      "source": [
        "%%capture\n",
        "list_min_best_comb = X_false[X_false.proba_min > 0.5].apply(lambda x: \n",
        "                                                            min_pois_best_comb(x.to_frame().transpose(), False), axis=1)"
      ],
      "execution_count": null,
      "outputs": []
    },
    {
      "cell_type": "code",
      "metadata": {
        "id": "bcXuxsMY9PAV",
        "outputId": "943efd32-e9f7-435f-f271-92399163c3c9"
      },
      "source": [
        "list_min_best_comb.plot.hist()\n",
        "plt.show()"
      ],
      "execution_count": null,
      "outputs": [
        {
          "output_type": "display_data",
          "data": {
            "image/png": "[encoded data removed]",
            "text/plain": [
              "<Figure size 432x288 with 1 Axes>"
            ]
          },
          "metadata": {
            "tags": [],
            "needs_background": "light"
          }
        }
      ]
    },
    {
      "cell_type": "markdown",
      "metadata": {
        "id": "n8fs38HX9PAW"
      },
      "source": [
        "# Model extraction\n",
        "\n",
        "Le but de cette attaque est de réccupérer les poids d'un modèle.\n",
        "On suppose que l'on connait l'architechure : regression logistique.\n",
        "\n",
        "Ce que l'on va faire c'est créer des nouvelles entrées que l'on va donné à notre modèle blackbox qui va les labélisé puis on va utilser ces labels pour entrainer notre nouveau modèle."
      ]
    },
    {
      "cell_type": "code",
      "metadata": {
        "id": "31oEhOOO9PAW"
      },
      "source": [
        "def new_entries(n):\n",
        "    list_entries = []\n",
        "    for col in X.columns:\n",
        "        list_entries.append(np.random.choice(X[col].unique(), n, p=(X[col].value_counts()/1000).to_numpy()))\n",
        "    return pd.DataFrame(np.array(list_entries).transpose(), columns=X.columns)"
      ],
      "execution_count": null,
      "outputs": []
    },
    {
      "cell_type": "code",
      "metadata": {
        "id": "_mvt6YQY9PAW"
      },
      "source": [
        "n = len(X_train)\n",
        "X_new = new_entries(n)\n",
        "y_new = logreg.predict(X_new)"
      ],
      "execution_count": null,
      "outputs": []
    },
    {
      "cell_type": "code",
      "metadata": {
        "id": "9Osf28YV9PAW",
        "outputId": "94de73dc-5c4d-4ebf-bf91-0e587b7dd51c"
      },
      "source": [
        "mesure_reg(model.fit(X_train, y_train), X_test, y_test)"
      ],
      "execution_count": null,
      "outputs": [
        {
          "output_type": "stream",
          "text": [
            "Sensitivity_recall :  0.7880794701986755\n",
            "Specificity:  0.5714285714285714\n",
            "Precision:  0.85\n",
            "Accuracy:  0.735\n"
          ],
          "name": "stdout"
        },
        {
          "output_type": "display_data",
          "data": {
            "image/png": "[encoded data removed]",
            "text/plain": [
              "<Figure size 432x288 with 2 Axes>"
            ]
          },
          "metadata": {
            "tags": [],
            "needs_background": "light"
          }
        }
      ]
    },
    {
      "cell_type": "code",
      "metadata": {
        "id": "bHTIIM6F9PAX",
        "outputId": "6ab49cb3-b949-4c5c-f63c-0ce3f60e1c2c"
      },
      "source": [
        "mesure_reg(model.fit(X_new, y_new), X_test, y_test)"
      ],
      "execution_count": null,
      "outputs": [
        {
          "output_type": "stream",
          "text": [
            "Sensitivity_recall :  0.7806451612903226\n",
            "Specificity:  0.5777777777777777\n",
            "Precision:  0.8642857142857143\n",
            "Accuracy:  0.735\n"
          ],
          "name": "stdout"
        },
        {
          "output_type": "display_data",
          "data": {
            "image/png": "[encoded data removed]",
            "text/plain": [
              "<Figure size 432x288 with 2 Axes>"
            ]
          },
          "metadata": {
            "tags": [],
            "needs_background": "light"
          }
        }
      ]
    },
    {
      "cell_type": "code",
      "metadata": {
        "id": "kVPbb25R9PAX"
      },
      "source": [
        "def new_entries_unif(n):\n",
        "    list_entries = []\n",
        "    for col in X.columns:\n",
        "        list_entries.append(np.random.choice(X[col].unique(), n))\n",
        "    return pd.DataFrame(np.array(list_entries).transpose(), columns=X.columns)"
      ],
      "execution_count": null,
      "outputs": []
    },
    {
      "cell_type": "code",
      "metadata": {
        "id": "XdEpig399PAX"
      },
      "source": [
        "n = len(X_train)\n",
        "X_new_unif = new_entries_unif(n)\n",
        "logreg = model.fit(X_train, y_train)\n",
        "y_new_unif = logreg.predict(X_new_unif)"
      ],
      "execution_count": null,
      "outputs": []
    },
    {
      "cell_type": "code",
      "metadata": {
        "id": "thRD8sES9PAX",
        "outputId": "14588bf5-7836-4502-e6bc-94a299cd9756"
      },
      "source": [
        "mesure_reg(model.fit(X_new_unif, y_new_unif), X_test, y_test)"
      ],
      "execution_count": null,
      "outputs": [
        {
          "output_type": "stream",
          "text": [
            "Sensitivity_recall :  0.7973856209150327\n",
            "Specificity:  0.6170212765957447\n",
            "Precision:  0.8714285714285714\n",
            "Accuracy:  0.755\n"
          ],
          "name": "stdout"
        },
        {
          "output_type": "display_data",
          "data": {
            "image/png": "[encoded data removed]",
            "text/plain": [
              "<Figure size 432x288 with 2 Axes>"
            ]
          },
          "metadata": {
            "tags": [],
            "needs_background": "light"
          }
        }
      ]
    },
    {
      "cell_type": "markdown",
      "metadata": {
        "id": "h6j0OxUt9PAY"
      },
      "source": [
        "Mesure de distance :\n",
        " - l'accuracy : mesure de l'efficacité de l'apprentissage\n",
        " - la précision : mesure de la distance du modèle original"
      ]
    },
    {
      "cell_type": "code",
      "metadata": {
        "id": "fLvaJhFv9PAY",
        "outputId": "ea036110-2066-47ec-ffac-28ed478e6153"
      },
      "source": [
        "y_hat = model.fit(X_new, y_new).predict(X_test)\n",
        "y_ori = model.fit(X_train, y_train).predict(X_test)\n",
        "\n",
        "prec = (y_ori == y_hat).astype(int).sum()/len(y_ori)\n",
        "accu_diff = accuracy_score(y_test, y_ori) - accuracy_score(y_test, y_hat)\n",
        "print(f\"Précision : {prec:.3f}, Différence d'accuracy : {accu_diff:.3f}\")"
      ],
      "execution_count": null,
      "outputs": [
        {
          "output_type": "stream",
          "text": [
            "Précision : 0.940, Différence d'accuracy : 0.000\n"
          ],
          "name": "stdout"
        }
      ]
    },
    {
      "cell_type": "code",
      "metadata": {
        "id": "BdxhxceP9PAY",
        "outputId": "72b0bdaa-0c0f-48ac-d33e-8105869b50b1"
      },
      "source": [
        "y_hat = model.fit(X_new_unif, y_new_unif).predict(X_test)\n",
        "y_ori = model.fit(X_train, y_train).predict(X_test)\n",
        "\n",
        "prec = (y_ori == y_hat).astype(int).sum()/len(y_ori)\n",
        "accu_diff = accuracy_score(y_test, y_ori) - accuracy_score(y_test, y_hat)\n",
        "print(f\"Précision : {prec:.3f}, Différence d'accuracy : {accu_diff:.3f}\")"
      ],
      "execution_count": null,
      "outputs": [
        {
          "output_type": "stream",
          "text": [
            "Précision : 0.960, Différence d'accuracy : -0.020\n"
          ],
          "name": "stdout"
        }
      ]
    },
    {
      "cell_type": "markdown",
      "metadata": {
        "id": "Fzx-pd079PAY"
      },
      "source": [
        "# Trouver un modèle capable de surapprendre"
      ]
    },
    {
      "cell_type": "code",
      "metadata": {
        "id": "NBSONnlw9PAZ"
      },
      "source": [
        "def add_relations(df_orig):\n",
        "    df = df_orig.copy()\n",
        "    for i, j in combinations(categorical_features, 2):\n",
        "        df[i + j] = df[i] + df[j]\n",
        "    return df\n",
        "\n",
        "new_categorical_features = categorical_features + [i + j for i, j in combinations(categorical_features, 2)]\n",
        "\n",
        "\n",
        "# On normalise les colones dans leur noms\n",
        "all_values = [X[col].unique() for col in categorical_features]\n",
        "categorie_rel = list(combinations(all_values, 2))\n",
        "\n",
        "categorie_name = [a + b for a,b in combinations(categorical_features, 2)]\n",
        "categorie_values = [[a + b for a,b in list(product(*x))] for x in categorie_rel]\n",
        "\n",
        "preprocessor_comb = ColumnTransformer(\n",
        "    transformers=[\n",
        "        ('cat', OneHotEncoder(categories=all_values+categorie_values, drop='first'), new_categorical_features),\n",
        "        ('ord', StandardScaler(), ordinal_features)\n",
        "    ])\n",
        "\n",
        "model_over = Pipeline(\n",
        "    steps=[\n",
        "        ('relations', FunctionTransformer(add_relations)), \n",
        "        ('preprocession', preprocessor_comb),\n",
        "        ('logreg', LogisticRegression(max_iter=200))\n",
        "    ]\n",
        ")"
      ],
      "execution_count": null,
      "outputs": []
    },
    {
      "cell_type": "code",
      "metadata": {
        "id": "E99hzR4J9PAZ",
        "outputId": "72973e4c-59f0-4b4b-fc2b-51e365c40989"
      },
      "source": [
        "%timeit model.fit(X_train, y_train)\n",
        "print(f\"validation : {model.score(X_test, y_test):.3f}, score : {model.score(X_train, y_train):.3f}\") "
      ],
      "execution_count": null,
      "outputs": [
        {
          "output_type": "stream",
          "text": [
            "27.7 ms ± 1.65 ms per loop (mean ± std. dev. of 7 runs, 10 loops each)\n",
            "validation : 0.735, score : 0.787\n"
          ],
          "name": "stdout"
        }
      ]
    },
    {
      "cell_type": "code",
      "metadata": {
        "id": "x6CHqscC9PAZ",
        "outputId": "e9021ee9-8bb9-4a6e-cd4a-8482d63924ce"
      },
      "source": [
        "%timeit model_over.fit(X_train, y_train)\n",
        "print(f\"validation : {model_over.score(X_test, y_test):.3f}, score : {model_over.score(X_train, y_train):.3f}\") "
      ],
      "execution_count": null,
      "outputs": [
        {
          "output_type": "stream",
          "text": [
            "153 ms ± 1.39 ms per loop (mean ± std. dev. of 7 runs, 10 loops each)\n",
            "validation : 0.725, score : 0.958\n"
          ],
          "name": "stdout"
        }
      ]
    },
    {
      "cell_type": "markdown",
      "metadata": {
        "id": "JhJSJYyJ9PAa"
      },
      "source": [
        "On a donc de l'overfit "
      ]
    },
    {
      "cell_type": "markdown",
      "metadata": {
        "id": "otPG87Ho9PAa"
      },
      "source": [
        "# Proprety inference\n",
        "\n",
        "On va chercher a reccupérer la proportion homme/femme de la base de donnée d'entrainement"
      ]
    },
    {
      "cell_type": "code",
      "metadata": {
        "id": "4QqI7Htg9PAa"
      },
      "source": [
        "def new_entries_homme(n, homme=True):\n",
        "    list_entries = []\n",
        "    for col in X.columns:\n",
        "        if col == 'sex':\n",
        "            q = max(0, min(0.6 + np.random.normal(scale=0.1), 1))\n",
        "            proba = [q, 1-q]\n",
        "            proba.sort(reverse=homme)\n",
        "            list_entries.append(np.random.choice(['male', 'female'], n, p=proba))\n",
        "        else:\n",
        "            list_entries.append(np.random.choice(X[col].unique(), n, p=(X[col].value_counts()/1000).to_numpy()))\n",
        "    return pd.DataFrame(np.array(list_entries).transpose(), columns=X.columns)"
      ],
      "execution_count": null,
      "outputs": []
    },
    {
      "cell_type": "code",
      "metadata": {
        "id": "6j_ajKpe9PAa",
        "outputId": "2ecb8598-1f2b-4109-a768-8c53facbd68c"
      },
      "source": [
        "new_entries_homme(1000).sex.value_counts(normalize=True)"
      ],
      "execution_count": null,
      "outputs": [
        {
          "output_type": "execute_result",
          "data": {
            "text/plain": [
              "male      0.512\n",
              "female    0.488\n",
              "Name: sex, dtype: float64"
            ]
          },
          "metadata": {
            "tags": []
          },
          "execution_count": 55
        }
      ]
    },
    {
      "cell_type": "code",
      "metadata": {
        "id": "VFZaNEFq9PAb",
        "outputId": "b53da7f6-c1fe-46b7-bd1e-32cf57794a1f"
      },
      "source": [
        "n = 300\n",
        "m = len(X_train)\n",
        "\n",
        "model.fit(X_train, y_train)\n",
        "\n",
        "data_X = [x for _ in tqdm(range(n//2)) for x in (new_entries_homme(m, True), new_entries_homme(m, False))]\n",
        "data_y = model.predict(pd.DataFrame(np.array(data_X).reshape(-1, 21), columns=X.columns)).reshape(n, -1)\n",
        "\n",
        "data_res = [model_over.fit(data_X[i], data_y[i])['logreg'].coef_[0] for i in tqdm(range(len(data_X)))]\n",
        "#data_res = [model.fit(data_X[i], data_y[i])['logreg'].coef_[0] for i in tqdm(range(len(data_X)))]\n",
        "data_res_homme = np.array([x for _ in range(n//2) for x in [1, 0]])"
      ],
      "execution_count": null,
      "outputs": [
        {
          "output_type": "stream",
          "text": [
            "100%|██████████| 150/150 [00:04<00:00, 31.69it/s]\n",
            "100%|██████████| 300/300 [00:46<00:00,  6.51it/s]\n"
          ],
          "name": "stderr"
        }
      ]
    },
    {
      "cell_type": "code",
      "metadata": {
        "id": "znQxpR1f9PAb"
      },
      "source": [
        "dist_homme = [(x.sex.value_counts(normalize=True))['male'] for x in data_X]"
      ],
      "execution_count": null,
      "outputs": []
    },
    {
      "cell_type": "code",
      "metadata": {
        "id": "s9MNK1iq9PAb",
        "outputId": "cfab511c-a6fa-4773-e566-028b02a083cd"
      },
      "source": [
        "plt.hist(dist_homme, density=True, bins=50)\n",
        "plt.show()"
      ],
      "execution_count": null,
      "outputs": [
        {
          "output_type": "display_data",
          "data": {
            "image/png": "[encoded data removed]",
            "text/plain": [
              "<Figure size 432x288 with 1 Axes>"
            ]
          },
          "metadata": {
            "tags": [],
            "needs_background": "light"
          }
        }
      ]
    },
    {
      "cell_type": "code",
      "metadata": {
        "id": "X1n-vOMO9PAb",
        "outputId": "9eb00831-10e1-460c-d198-a94871412441"
      },
      "source": [
        "X_train_super, X_test_super, y_train_super, y_test_super = model_selection.train_test_split(data_res, \n",
        "                                                                                            data_res_homme, \n",
        "                                                                                            test_size=0.20, \n",
        "                                                                                            random_state=seed)\n",
        "super_model = LogisticRegression(max_iter=200)\n",
        "super_model.fit(X_train_super, y_train_super)"
      ],
      "execution_count": null,
      "outputs": [
        {
          "output_type": "execute_result",
          "data": {
            "text/plain": [
              "LogisticRegression(max_iter=200)"
            ]
          },
          "metadata": {
            "tags": []
          },
          "execution_count": 66
        }
      ]
    },
    {
      "cell_type": "code",
      "metadata": {
        "id": "akL_JHS49PAc",
        "outputId": "a7e09ac2-3790-4629-f72e-27ae97f7ebf0"
      },
      "source": [
        "confusion_matrix(y_test_super, super_model.predict(X_test_super))"
      ],
      "execution_count": null,
      "outputs": [
        {
          "output_type": "execute_result",
          "data": {
            "text/plain": [
              "array([[26,  2],\n",
              "       [ 4, 28]])"
            ]
          },
          "metadata": {
            "tags": []
          },
          "execution_count": 67
        }
      ]
    },
    {
      "cell_type": "code",
      "metadata": {
        "id": "I1vAj7t49PAc",
        "outputId": "960629d5-e819-468f-d471-e029f61f6202"
      },
      "source": [
        "print(X_train.sex.value_counts(normalize=True))\n",
        "\n",
        "# Attention j'ai utilisé la prédiction du modèle au lieu de y_train !!\n",
        "#super_model.predict_proba(model_over.fit(X_train, y_train)['logreg'].coef_)\n",
        "super_model.predict_proba(model_over.fit(X_train, model.predict(X_train))['logreg'].coef_)"
      ],
      "execution_count": null,
      "outputs": [
        {
          "output_type": "stream",
          "text": [
            "male      0.6925\n",
            "female    0.3075\n",
            "Name: sex, dtype: float64\n"
          ],
          "name": "stdout"
        },
        {
          "output_type": "execute_result",
          "data": {
            "text/plain": [
              "array([[0.15704897, 0.84295103]])"
            ]
          },
          "metadata": {
            "tags": []
          },
          "execution_count": 68
        }
      ]
    },
    {
      "cell_type": "code",
      "metadata": {
        "id": "0aFOjO719PAd"
      },
      "source": [
        ""
      ],
      "execution_count": null,
      "outputs": []
    },
    {
      "cell_type": "code",
      "metadata": {
        "id": "9s6fx-fC9PAd"
      },
      "source": [
        "data_res_prop = [(x.sex.value_counts(normalize=True))['male'] for x in data_X]\n",
        "X_train_super, X_test_super, y_train_super, y_test_super = model_selection.train_test_split(data_res, \n",
        "                                                                                            data_res_prop, \n",
        "                                                                                            test_size=0.20, \n",
        "                                                                                            random_state=seed)"
      ],
      "execution_count": null,
      "outputs": []
    },
    {
      "cell_type": "code",
      "metadata": {
        "id": "LWCnJA3i9PAd",
        "outputId": "6c2c5de8-f088-46c9-b409-f820771b1685"
      },
      "source": [
        "super_model_linear = LinearRegression()\n",
        "super_model_linear.fit(X_train_super, y_train_super)"
      ],
      "execution_count": null,
      "outputs": [
        {
          "output_type": "execute_result",
          "data": {
            "text/plain": [
              "LinearRegression()"
            ]
          },
          "metadata": {
            "tags": []
          },
          "execution_count": 70
        }
      ]
    },
    {
      "cell_type": "code",
      "metadata": {
        "id": "dF7wOIW79PAd",
        "outputId": "5ad94f63-204a-4b8b-faf6-cc11eb2116a2"
      },
      "source": [
        "((np.abs(y_test_super - super_model_linear.predict(X_test_super))/y_test_super) * 100).mean()"
      ],
      "execution_count": null,
      "outputs": [
        {
          "output_type": "execute_result",
          "data": {
            "text/plain": [
              "17.284295026464985"
            ]
          },
          "metadata": {
            "tags": []
          },
          "execution_count": 71
        }
      ]
    },
    {
      "cell_type": "code",
      "metadata": {
        "id": "0S3QhCHq9PAe",
        "outputId": "8b88485e-d77f-4d8e-fddd-018c1b26f670"
      },
      "source": [
        "super_model_linear.predict(model_over.fit(X_train, model.predict(X_train))['logreg'].coef_)"
      ],
      "execution_count": null,
      "outputs": [
        {
          "output_type": "execute_result",
          "data": {
            "text/plain": [
              "array([0.69545994])"
            ]
          },
          "metadata": {
            "tags": []
          },
          "execution_count": 72
        }
      ]
    },
    {
      "cell_type": "code",
      "metadata": {
        "id": "l9IF67ZE9PAe",
        "outputId": "7ba87ef9-c25c-4e15-b4ba-21dcea54adc7"
      },
      "source": [
        "from sklearn import svm\n",
        "\n",
        "super_model_svr = svm.LinearSVR(max_iter=2000)\n",
        "super_model_svr.fit(X_train_super, y_train_super)"
      ],
      "execution_count": null,
      "outputs": [
        {
          "output_type": "execute_result",
          "data": {
            "text/plain": [
              "LinearSVR(max_iter=2000)"
            ]
          },
          "metadata": {
            "tags": []
          },
          "execution_count": 73
        }
      ]
    },
    {
      "cell_type": "code",
      "metadata": {
        "id": "rOsEHu049PAe",
        "outputId": "ffb99dfb-47b8-4a88-be77-1773574ee52d"
      },
      "source": [
        "((np.abs(y_test_super - super_model_svr.predict(X_test_super))/y_test_super) * 100).mean()"
      ],
      "execution_count": null,
      "outputs": [
        {
          "output_type": "execute_result",
          "data": {
            "text/plain": [
              "17.155981711730142"
            ]
          },
          "metadata": {
            "tags": []
          },
          "execution_count": 74
        }
      ]
    },
    {
      "cell_type": "code",
      "metadata": {
        "id": "6mAOjmP49PAf",
        "outputId": "2aa572d0-e6c5-49fd-ca1e-e00f8b98059f"
      },
      "source": [
        "super_model_svr.predict(model_over.fit(X_train, model.predict(X_train))['logreg'].coef_)"
      ],
      "execution_count": null,
      "outputs": [
        {
          "output_type": "execute_result",
          "data": {
            "text/plain": [
              "array([0.68429442])"
            ]
          },
          "metadata": {
            "tags": []
          },
          "execution_count": 75
        }
      ]
    },
    {
      "cell_type": "markdown",
      "metadata": {
        "id": "M5wN6WLF9PAf"
      },
      "source": [
        "# Differential Privacy\n",
        "\n",
        "On va implementer la regression logistique en tensorflow"
      ]
    },
    {
      "cell_type": "code",
      "metadata": {
        "id": "7pWJHB369PAf"
      },
      "source": [
        "from tensorflow.keras.models import Sequential\n",
        "from tensorflow.keras.layers import Dense\n",
        "from tensorflow.keras.callbacks import EarlyStopping\n",
        "from tensorflow.keras.optimizers import Adam\n",
        "from tensorflow.keras.metrics import BinaryAccuracy"
      ],
      "execution_count": null,
      "outputs": []
    },
    {
      "cell_type": "code",
      "metadata": {
        "id": "Lif1CeZ19PAf"
      },
      "source": [
        "number_of_classes = 1\n",
        "number_of_features = 1334\n",
        "\n",
        "X_train_pre = preprocessor_comb.transform(add_relations(X_train)).toarray().astype(np.float32)\n",
        "X_test_pre = preprocessor_comb.transform(add_relations(X_test)).toarray().astype(np.float32)"
      ],
      "execution_count": null,
      "outputs": []
    },
    {
      "cell_type": "code",
      "metadata": {
        "id": "FyB94cdX9PAf",
        "outputId": "32810261-1e04-4c50-e41e-214218877a4f"
      },
      "source": [
        "# Sans Differential Privacy\n",
        "\n",
        "opt = Adam()\n",
        "loss = BinaryCrossentropy()\n",
        "es = EarlyStopping(monitor='val_loss')\n",
        "\n",
        "model = Sequential()\n",
        "model.add(Dense(number_of_classes, activation = 'sigmoid', input_dim = number_of_features))\n",
        "model.compile(optimizer='adam', loss='binary_crossentropy', metrics=BinaryAccuracy(dtype=None, threshold=0.5))\n",
        "\n",
        "model.fit(X_train_pre, y_train.to_numpy(), epochs=50, \n",
        "          validation_data=(X_test_pre, y_test.to_numpy()), callbacks=es)"
      ],
      "execution_count": null,
      "outputs": [
        {
          "output_type": "stream",
          "text": [
            "Epoch 1/50\n",
            "25/25 [==============================] - 0s 6ms/step - loss: 0.6701 - binary_accuracy: 0.6292 - val_loss: 0.6116 - val_binary_accuracy: 0.7000\n",
            "Epoch 2/50\n",
            "25/25 [==============================] - 0s 2ms/step - loss: 0.6129 - binary_accuracy: 0.6673 - val_loss: 0.5729 - val_binary_accuracy: 0.7150\n",
            "Epoch 3/50\n",
            "25/25 [==============================] - 0s 2ms/step - loss: 0.5213 - binary_accuracy: 0.7566 - val_loss: 0.5491 - val_binary_accuracy: 0.7200\n",
            "Epoch 4/50\n",
            "25/25 [==============================] - 0s 2ms/step - loss: 0.4931 - binary_accuracy: 0.7680 - val_loss: 0.5327 - val_binary_accuracy: 0.7250\n",
            "Epoch 5/50\n",
            "25/25 [==============================] - 0s 2ms/step - loss: 0.4867 - binary_accuracy: 0.7718 - val_loss: 0.5234 - val_binary_accuracy: 0.7200\n",
            "Epoch 6/50\n",
            "25/25 [==============================] - 0s 3ms/step - loss: 0.4748 - binary_accuracy: 0.7774 - val_loss: 0.5188 - val_binary_accuracy: 0.7250\n",
            "Epoch 7/50\n",
            "25/25 [==============================] - 0s 3ms/step - loss: 0.4378 - binary_accuracy: 0.8026 - val_loss: 0.5144 - val_binary_accuracy: 0.7350\n",
            "Epoch 8/50\n",
            "25/25 [==============================] - 0s 2ms/step - loss: 0.4321 - binary_accuracy: 0.8226 - val_loss: 0.5119 - val_binary_accuracy: 0.7500\n",
            "Epoch 9/50\n",
            "25/25 [==============================] - 0s 2ms/step - loss: 0.4369 - binary_accuracy: 0.7989 - val_loss: 0.5097 - val_binary_accuracy: 0.7300\n",
            "Epoch 10/50\n",
            "25/25 [==============================] - 0s 3ms/step - loss: 0.4201 - binary_accuracy: 0.8102 - val_loss: 0.5098 - val_binary_accuracy: 0.7450\n"
          ],
          "name": "stdout"
        },
        {
          "output_type": "execute_result",
          "data": {
            "text/plain": [
              "<tensorflow.python.keras.callbacks.History at 0x7f8775830df0>"
            ]
          },
          "metadata": {
            "tags": []
          },
          "execution_count": 189
        }
      ]
    },
    {
      "cell_type": "code",
      "metadata": {
        "id": "_D3srcNU9PAg"
      },
      "source": [
        "from tensorflow_privacy.privacy.optimizers.dp_optimizer_keras_vectorized import make_vectorized_keras_optimizer_class\n",
        "from tensorflow.keras.losses import BinaryCrossentropy, Reduction"
      ],
      "execution_count": null,
      "outputs": []
    },
    {
      "cell_type": "code",
      "metadata": {
        "id": "rNPU5yJ19PAg",
        "outputId": "f775a549-332f-43ef-c3a3-ec08e6121fb0"
      },
      "source": [
        "# Avec Differential Privacy\n",
        "\n",
        "l2_norm_clip = 1.0\n",
        "noise_multiplier = 0.5\n",
        "num_microbatches = 1\n",
        "\n",
        "opt = make_vectorized_keras_optimizer_class(Adam)(l2_norm_clip=l2_norm_clip, \n",
        "                                                  noise_multiplier=noise_multiplier, \n",
        "                                                  num_microbatches=num_microbatches)\n",
        "loss = BinaryCrossentropy(reduction=Reduction.NONE) #pourquoi neduction.None\n",
        "es = EarlyStopping(monitor='val_loss')\n",
        "\n",
        "model_diff = Sequential()\n",
        "model_diff.add(Dense(number_of_classes, activation = 'sigmoid', input_dim = number_of_features))\n",
        "model_diff.compile(optimizer=opt, loss=loss, metrics=BinaryAccuracy(dtype=None, threshold=0.5))\n",
        "\n",
        "model_diff.fit(X_train_pre, y_train.to_numpy(), epochs=50,\n",
        "               validation_data=(X_test_pre, y_test.to_numpy()), callbacks=es)"
      ],
      "execution_count": null,
      "outputs": [
        {
          "output_type": "stream",
          "text": [
            "Epoch 1/50\n",
            "25/25 [==============================] - 1s 6ms/step - loss: 0.7545 - binary_accuracy: 0.4114 - val_loss: 0.7219 - val_binary_accuracy: 0.4650\n",
            "Epoch 2/50\n",
            "25/25 [==============================] - 0s 2ms/step - loss: 0.7217 - binary_accuracy: 0.4571 - val_loss: 0.6920 - val_binary_accuracy: 0.5200\n",
            "Epoch 3/50\n",
            "25/25 [==============================] - 0s 3ms/step - loss: 0.6912 - binary_accuracy: 0.5306 - val_loss: 0.6719 - val_binary_accuracy: 0.5600\n",
            "Epoch 4/50\n",
            "25/25 [==============================] - 0s 2ms/step - loss: 0.6675 - binary_accuracy: 0.6060 - val_loss: 0.6528 - val_binary_accuracy: 0.6650\n",
            "Epoch 5/50\n",
            "25/25 [==============================] - 0s 2ms/step - loss: 0.6554 - binary_accuracy: 0.6083 - val_loss: 0.6358 - val_binary_accuracy: 0.6750\n",
            "Epoch 6/50\n",
            "25/25 [==============================] - 0s 3ms/step - loss: 0.6299 - binary_accuracy: 0.6687 - val_loss: 0.6236 - val_binary_accuracy: 0.6800\n",
            "Epoch 7/50\n",
            "25/25 [==============================] - 0s 3ms/step - loss: 0.6226 - binary_accuracy: 0.6670 - val_loss: 0.6178 - val_binary_accuracy: 0.7000\n",
            "Epoch 8/50\n",
            "25/25 [==============================] - 0s 3ms/step - loss: 0.6227 - binary_accuracy: 0.6795 - val_loss: 0.6139 - val_binary_accuracy: 0.7050\n",
            "Epoch 9/50\n",
            "25/25 [==============================] - 0s 3ms/step - loss: 0.5858 - binary_accuracy: 0.7169 - val_loss: 0.6089 - val_binary_accuracy: 0.7000\n",
            "Epoch 10/50\n",
            "25/25 [==============================] - 0s 2ms/step - loss: 0.5935 - binary_accuracy: 0.7055 - val_loss: 0.6056 - val_binary_accuracy: 0.7050\n",
            "Epoch 11/50\n",
            "25/25 [==============================] - 0s 2ms/step - loss: 0.5925 - binary_accuracy: 0.6927 - val_loss: 0.5992 - val_binary_accuracy: 0.7000\n",
            "Epoch 12/50\n",
            "25/25 [==============================] - 0s 2ms/step - loss: 0.5839 - binary_accuracy: 0.7008 - val_loss: 0.5938 - val_binary_accuracy: 0.7050\n",
            "Epoch 13/50\n",
            "25/25 [==============================] - 0s 2ms/step - loss: 0.5849 - binary_accuracy: 0.7112 - val_loss: 0.5899 - val_binary_accuracy: 0.7050\n",
            "Epoch 14/50\n",
            "25/25 [==============================] - 0s 2ms/step - loss: 0.5898 - binary_accuracy: 0.6824 - val_loss: 0.5864 - val_binary_accuracy: 0.7050\n",
            "Epoch 15/50\n",
            "25/25 [==============================] - 0s 2ms/step - loss: 0.5655 - binary_accuracy: 0.7185 - val_loss: 0.5838 - val_binary_accuracy: 0.7050\n",
            "Epoch 16/50\n",
            "25/25 [==============================] - 0s 3ms/step - loss: 0.5706 - binary_accuracy: 0.7182 - val_loss: 0.5791 - val_binary_accuracy: 0.7050\n",
            "Epoch 17/50\n",
            "25/25 [==============================] - 0s 3ms/step - loss: 0.5610 - binary_accuracy: 0.7244 - val_loss: 0.5751 - val_binary_accuracy: 0.7050\n",
            "Epoch 18/50\n",
            "25/25 [==============================] - 0s 3ms/step - loss: 0.5541 - binary_accuracy: 0.7354 - val_loss: 0.5711 - val_binary_accuracy: 0.7050\n",
            "Epoch 19/50\n",
            "25/25 [==============================] - 0s 3ms/step - loss: 0.5518 - binary_accuracy: 0.7238 - val_loss: 0.5686 - val_binary_accuracy: 0.7050\n",
            "Epoch 20/50\n",
            "25/25 [==============================] - 0s 3ms/step - loss: 0.5562 - binary_accuracy: 0.7242 - val_loss: 0.5641 - val_binary_accuracy: 0.7050\n",
            "Epoch 21/50\n",
            "25/25 [==============================] - 0s 3ms/step - loss: 0.5570 - binary_accuracy: 0.7203 - val_loss: 0.5630 - val_binary_accuracy: 0.7050\n",
            "Epoch 22/50\n",
            "25/25 [==============================] - 0s 3ms/step - loss: 0.5443 - binary_accuracy: 0.7344 - val_loss: 0.5599 - val_binary_accuracy: 0.7150\n",
            "Epoch 23/50\n",
            "25/25 [==============================] - 0s 3ms/step - loss: 0.5469 - binary_accuracy: 0.7245 - val_loss: 0.5568 - val_binary_accuracy: 0.7150\n",
            "Epoch 24/50\n",
            "25/25 [==============================] - 0s 3ms/step - loss: 0.5381 - binary_accuracy: 0.7353 - val_loss: 0.5541 - val_binary_accuracy: 0.7100\n",
            "Epoch 25/50\n",
            "25/25 [==============================] - 0s 3ms/step - loss: 0.5285 - binary_accuracy: 0.7427 - val_loss: 0.5541 - val_binary_accuracy: 0.7200\n",
            "Epoch 26/50\n",
            "25/25 [==============================] - 0s 3ms/step - loss: 0.5352 - binary_accuracy: 0.7691 - val_loss: 0.5548 - val_binary_accuracy: 0.7200\n"
          ],
          "name": "stdout"
        },
        {
          "output_type": "execute_result",
          "data": {
            "text/plain": [
              "<tensorflow.python.keras.callbacks.History at 0x7f877eb3f3a0>"
            ]
          },
          "metadata": {
            "tags": []
          },
          "execution_count": 215
        }
      ]
    },
    {
      "cell_type": "code",
      "metadata": {
        "id": "UxSsqrMR9PAg",
        "outputId": "23c083a4-5725-4e0e-cb16-c5e4a11f6d14"
      },
      "source": [
        "model = Sequential()\n",
        "model.add(Dense(number_of_classes, activation = 'sigmoid', input_dim = number_of_features))\n",
        "model.compile(optimizer='adam', loss='binary_crossentropy', metrics=BinaryAccuracy(dtype=None, threshold=0.5))\n",
        "\n",
        "%timeit model.fit(X_train_pre, y_train.to_numpy(), epochs=50, \\\n",
        "                  validation_data=(X_test_pre, y_test.to_numpy()), callbacks=es, \\\n",
        "                  verbose=0)"
      ],
      "execution_count": null,
      "outputs": [
        {
          "output_type": "stream",
          "text": [
            "229 ms ± 31.7 ms per loop (mean ± std. dev. of 7 runs, 1 loop each)\n"
          ],
          "name": "stdout"
        }
      ]
    },
    {
      "cell_type": "code",
      "metadata": {
        "id": "UJ0Onc-59PAh",
        "outputId": "b37fbad5-4e5f-4350-9ef5-ec941913b8ac"
      },
      "source": [
        "model_diff = Sequential()\n",
        "model_diff.add(Dense(number_of_classes, activation = 'sigmoid', input_dim = number_of_features))\n",
        "model_diff.compile(optimizer=opt, loss=loss, metrics=BinaryAccuracy(dtype=None, threshold=0.5))\n",
        "\n",
        "%timeit model_diff.fit(X_train_pre, y_train.to_numpy(), epochs=50, \\\n",
        "                       validation_data=(X_test_pre, y_test.to_numpy()), callbacks=es, \\\n",
        "                       verbose=0)"
      ],
      "execution_count": null,
      "outputs": [
        {
          "output_type": "stream",
          "text": [
            "391 ms ± 193 ms per loop (mean ± std. dev. of 7 runs, 1 loop each)\n"
          ],
          "name": "stdout"
        }
      ]
    },
    {
      "cell_type": "code",
      "metadata": {
        "id": "5x_BFqNb9PAh",
        "outputId": "d65c231e-5e5b-43c2-8c37-7a8e0891bf90"
      },
      "source": [
        "y_pred = (model.predict(X_test_pre) > 0.5).astype(\"int32\")\n",
        "y_test_pre = y_test.to_numpy().reshape((-1,1))\n",
        "\n",
        "print(confusion_matrix(y_test_pre, y_pred))"
      ],
      "execution_count": null,
      "outputs": [
        {
          "output_type": "stream",
          "text": [
            "[[125  15]\n",
            " [ 32  28]]\n"
          ],
          "name": "stdout"
        }
      ]
    },
    {
      "cell_type": "code",
      "metadata": {
        "id": "4UOZbJPP9PAh",
        "outputId": "701f6ede-8159-4ef4-a918-f8ea2eab2ad5"
      },
      "source": [
        "y_pred = (model_diff.predict(X_test_pre) > 0.5).astype(\"int32\")\n",
        "y_test_pre = y_test.to_numpy().reshape((-1,1))\n",
        "\n",
        "print(confusion_matrix(y_test_pre, y_pred))"
      ],
      "execution_count": null,
      "outputs": [
        {
          "output_type": "stream",
          "text": [
            "[[127  13]\n",
            " [ 37  23]]\n"
          ],
          "name": "stdout"
        }
      ]
    },
    {
      "cell_type": "markdown",
      "metadata": {
        "id": "-X3WQi_39PAi"
      },
      "source": [
        "# Membership attack"
      ]
    },
    {
      "cell_type": "code",
      "metadata": {
        "id": "dG9FJ3h89PAi"
      },
      "source": [
        "from mia.estimators import ShadowModelBundle, AttackModelBundle, prepare_attack_data\n",
        "import tensorflow as tf\n",
        "from tensorflow.keras import layers"
      ],
      "execution_count": null,
      "outputs": []
    },
    {
      "cell_type": "code",
      "metadata": {
        "id": "MHctjzoh9PAi"
      },
      "source": [
        "prep_over = Pipeline(\n",
        "    steps=[\n",
        "        ('relations', FunctionTransformer(add_relations)), \n",
        "        ('preprocession', preprocessor_comb),\n",
        "    ]\n",
        ")"
      ],
      "execution_count": null,
      "outputs": []
    },
    {
      "cell_type": "code",
      "metadata": {
        "id": "WWY30AcO9PAi"
      },
      "source": [
        "n = 10000\n",
        "\n",
        "X_attaquant = new_entries(n)\n",
        "y_attaquant = model_over.fit(X_train, y_train).predict(X_attaquant)\n",
        "\n",
        "X_attaquant_proc = prep_over.fit_transform(X_attaquant)"
      ],
      "execution_count": null,
      "outputs": []
    },
    {
      "cell_type": "code",
      "metadata": {
        "id": "pKWVxZk89PAi"
      },
      "source": [
        "smb = ShadowModelBundle(\n",
        "    lambda : LogisticRegression(max_iter=300),\n",
        "    shadow_dataset_size=1000,\n",
        "    num_models=50\n",
        "    )"
      ],
      "execution_count": null,
      "outputs": []
    },
    {
      "cell_type": "code",
      "metadata": {
        "id": "SNfUsLaN9PAj"
      },
      "source": [
        "X_shadow, y_shadow = smb.fit_transform(X_attaquant_proc, y_attaquant)"
      ],
      "execution_count": null,
      "outputs": []
    },
    {
      "cell_type": "code",
      "metadata": {
        "id": "918ntT-F9PAj"
      },
      "source": [
        "def attack_model_fn():\n",
        "    \"\"\"Attack model that takes target model predictions and predicts membership.\n",
        "    Following the original paper, this attack model is specific to the class of the input.\n",
        "    AttachModelBundle creates multiple instances of this model for each class.\n",
        "    \"\"\"\n",
        "    model = tf.keras.models.Sequential()\n",
        "\n",
        "    model.add(layers.Dense(128, activation=\"relu\", input_shape=(2,)))\n",
        "\n",
        "    model.add(layers.Dropout(0.3, noise_shape=None, seed=None))\n",
        "    model.add(layers.Dense(64, activation=\"relu\"))\n",
        "    model.add(layers.Dropout(0.2, noise_shape=None, seed=None))\n",
        "    model.add(layers.Dense(64, activation=\"relu\"))\n",
        "\n",
        "    model.add(layers.Dense(1, activation=\"sigmoid\"))\n",
        "    model.compile(\"adam\", loss=\"binary_crossentropy\", metrics=[\"accuracy\"])\n",
        "    return model\n"
      ],
      "execution_count": null,
      "outputs": []
    },
    {
      "cell_type": "code",
      "metadata": {
        "id": "BPT8cVkJ9PAj"
      },
      "source": [
        "amb = AttackModelBundle(attack_model_fn, num_classes=2)"
      ],
      "execution_count": null,
      "outputs": []
    },
    {
      "cell_type": "code",
      "metadata": {
        "id": "AR4GkbXz9PAj",
        "outputId": "61acea2b-948c-40e5-f6b0-aebf9ba698b2"
      },
      "source": [
        " # Fit the attack models.\n",
        "print(\"Training the attack models...\")\n",
        "amb.fit(\n",
        "    X_shadow, y_shadow, fit_kwargs=dict(epochs=10, verbose=True)\n",
        ")"
      ],
      "execution_count": null,
      "outputs": [
        {
          "output_type": "stream",
          "text": [
            "Training the attack models...\n",
            "Epoch 1/10\n",
            "3125/3125 [==============================] - 3s 887us/step - loss: 0.6753 - accuracy: 0.5530\n",
            "Epoch 2/10\n",
            "3125/3125 [==============================] - 3s 927us/step - loss: 0.6661 - accuracy: 0.5634\n",
            "Epoch 3/10\n",
            "3125/3125 [==============================] - 3s 950us/step - loss: 0.6665 - accuracy: 0.5651\n",
            "Epoch 4/10\n",
            "3125/3125 [==============================] - 3s 993us/step - loss: 0.6669 - accuracy: 0.5648\n",
            "Epoch 5/10\n",
            "3125/3125 [==============================] - 3s 1ms/step - loss: 0.6651 - accuracy: 0.5660\n",
            "Epoch 6/10\n",
            "3125/3125 [==============================] - 3s 1ms/step - loss: 0.6647 - accuracy: 0.5667\n",
            "Epoch 7/10\n",
            "3125/3125 [==============================] - 4s 1ms/step - loss: 0.6646 - accuracy: 0.5687\n",
            "Epoch 8/10\n",
            "3125/3125 [==============================] - 4s 1ms/step - loss: 0.6649 - accuracy: 0.5655\n",
            "Epoch 9/10\n",
            "3125/3125 [==============================] - 4s 1ms/step - loss: 0.6651 - accuracy: 0.5655\n",
            "Epoch 10/10\n",
            "3125/3125 [==============================] - 4s 1ms/step - loss: 0.6643 - accuracy: 0.5646\n",
            "Epoch 1/10\n"
          ],
          "name": "stdout"
        },
        {
          "output_type": "error",
          "ename": "ValueError",
          "evalue": "Expect x to be a non-empty array or dataset.",
          "traceback": [
            "\u001b[0;31m---------------------------------------------------------------------------\u001b[0m",
            "\u001b[0;31mValueError\u001b[0m                                Traceback (most recent call last)",
            "\u001b[0;32m<ipython-input-149-e4506ec55d73>\u001b[0m in \u001b[0;36m<module>\u001b[0;34m\u001b[0m\n\u001b[1;32m      1\u001b[0m \u001b[0;31m# Fit the attack models.\u001b[0m\u001b[0;34m\u001b[0m\u001b[0;34m\u001b[0m\u001b[0;34m\u001b[0m\u001b[0m\n\u001b[1;32m      2\u001b[0m \u001b[0mprint\u001b[0m\u001b[0;34m(\u001b[0m\u001b[0;34m\"Training the attack models...\"\u001b[0m\u001b[0;34m)\u001b[0m\u001b[0;34m\u001b[0m\u001b[0;34m\u001b[0m\u001b[0m\n\u001b[0;32m----> 3\u001b[0;31m amb.fit(\n\u001b[0m\u001b[1;32m      4\u001b[0m    \u001b[0mX_shadow\u001b[0m\u001b[0;34m,\u001b[0m \u001b[0my_shadow\u001b[0m\u001b[0;34m,\u001b[0m \u001b[0mfit_kwargs\u001b[0m\u001b[0;34m=\u001b[0m\u001b[0mdict\u001b[0m\u001b[0;34m(\u001b[0m\u001b[0mepochs\u001b[0m\u001b[0;34m=\u001b[0m\u001b[0;36m10\u001b[0m\u001b[0;34m,\u001b[0m \u001b[0mverbose\u001b[0m\u001b[0;34m=\u001b[0m\u001b[0;32mTrue\u001b[0m\u001b[0;34m)\u001b[0m\u001b[0;34m\u001b[0m\u001b[0;34m\u001b[0m\u001b[0m\n\u001b[1;32m      5\u001b[0m )\n",
            "\u001b[0;32m~/opt/anaconda3/lib/python3.8/site-packages/mia/estimators.py\u001b[0m in \u001b[0;36mfit\u001b[0;34m(self, X, y, verbose, fit_kwargs)\u001b[0m\n\u001b[1;32m    240\u001b[0m             \u001b[0mmodel\u001b[0m \u001b[0;34m=\u001b[0m \u001b[0mself\u001b[0m\u001b[0;34m.\u001b[0m\u001b[0mmodel_fn\u001b[0m\u001b[0;34m(\u001b[0m\u001b[0;34m)\u001b[0m\u001b[0;34m\u001b[0m\u001b[0;34m\u001b[0m\u001b[0m\n\u001b[1;32m    241\u001b[0m             \u001b[0mfit_kwargs\u001b[0m \u001b[0;34m=\u001b[0m \u001b[0mfit_kwargs\u001b[0m \u001b[0;32mor\u001b[0m \u001b[0;34m{\u001b[0m\u001b[0;34m}\u001b[0m\u001b[0;34m\u001b[0m\u001b[0;34m\u001b[0m\u001b[0m\n\u001b[0;32m--> 242\u001b[0;31m             \u001b[0mmodel\u001b[0m\u001b[0;34m.\u001b[0m\u001b[0mfit\u001b[0m\u001b[0;34m(\u001b[0m\u001b[0mX_train\u001b[0m\u001b[0;34m,\u001b[0m \u001b[0my_train\u001b[0m\u001b[0;34m,\u001b[0m \u001b[0;34m**\u001b[0m\u001b[0mfit_kwargs\u001b[0m\u001b[0;34m)\u001b[0m\u001b[0;34m\u001b[0m\u001b[0;34m\u001b[0m\u001b[0m\n\u001b[0m\u001b[1;32m    243\u001b[0m \u001b[0;34m\u001b[0m\u001b[0m\n\u001b[1;32m    244\u001b[0m             \u001b[0;32mif\u001b[0m \u001b[0mself\u001b[0m\u001b[0;34m.\u001b[0m\u001b[0mserializer\u001b[0m \u001b[0;32mis\u001b[0m \u001b[0;32mnot\u001b[0m \u001b[0;32mNone\u001b[0m\u001b[0;34m:\u001b[0m\u001b[0;34m\u001b[0m\u001b[0;34m\u001b[0m\u001b[0m\n",
            "\u001b[0;32m~/opt/anaconda3/lib/python3.8/site-packages/tensorflow/python/keras/engine/training.py\u001b[0m in \u001b[0;36mfit\u001b[0;34m(self, x, y, batch_size, epochs, verbose, callbacks, validation_split, validation_data, shuffle, class_weight, sample_weight, initial_epoch, steps_per_epoch, validation_steps, validation_batch_size, validation_freq, max_queue_size, workers, use_multiprocessing)\u001b[0m\n\u001b[1;32m   1108\u001b[0m \u001b[0;34m\u001b[0m\u001b[0m\n\u001b[1;32m   1109\u001b[0m         \u001b[0;32mif\u001b[0m \u001b[0mlogs\u001b[0m \u001b[0;32mis\u001b[0m \u001b[0;32mNone\u001b[0m\u001b[0;34m:\u001b[0m\u001b[0;34m\u001b[0m\u001b[0;34m\u001b[0m\u001b[0m\n\u001b[0;32m-> 1110\u001b[0;31m           \u001b[0;32mraise\u001b[0m \u001b[0mValueError\u001b[0m\u001b[0;34m(\u001b[0m\u001b[0;34m'Expect x to be a non-empty array or dataset.'\u001b[0m\u001b[0;34m)\u001b[0m\u001b[0;34m\u001b[0m\u001b[0;34m\u001b[0m\u001b[0m\n\u001b[0m\u001b[1;32m   1111\u001b[0m         \u001b[0mepoch_logs\u001b[0m \u001b[0;34m=\u001b[0m \u001b[0mcopy\u001b[0m\u001b[0;34m.\u001b[0m\u001b[0mcopy\u001b[0m\u001b[0;34m(\u001b[0m\u001b[0mlogs\u001b[0m\u001b[0;34m)\u001b[0m\u001b[0;34m\u001b[0m\u001b[0;34m\u001b[0m\u001b[0m\n\u001b[1;32m   1112\u001b[0m \u001b[0;34m\u001b[0m\u001b[0m\n",
            "\u001b[0;31mValueError\u001b[0m: Expect x to be a non-empty array or dataset."
          ]
        }
      ]
    },
    {
      "cell_type": "markdown",
      "metadata": {
        "id": "j6Bmlisq9PAk"
      },
      "source": [
        "## Formules\n",
        "\n",
        "Le problème dans ce que vous avez écrit y'a une surparamétrisation :\n",
        "\n",
        "On peut pas avoir P(X=F|Y=1) = 0,8 avec P(Y=1|X=F) = 0,7, P(Y=1|X=H) = 0,6 et P(X=H) = 0,5\n",
        "\n",
        "\n",
        "En gros l'association à trouver P(X=F|Y=1) = 0.8 avec une certaine base de donnée et on ne peut pas utiliser ce résultat avec les autre proba qui sont trouvé avec une autre base. \n",
        "\n",
        "\n",
        "Si on utilise les résultats de l'API on trouve P(X=F|Y=1) = 0,5385"
      ]
    },
    {
      "cell_type": "code",
      "metadata": {
        "id": "PXf_D2_g9PAk"
      },
      "source": [
        "def new_entries_femme(n, p):\n",
        "    list_entries = []\n",
        "    for col in X.columns:\n",
        "        if col == 'sex':\n",
        "            proba = [1-p, p]\n",
        "            list_entries.append(np.random.choice(['male', 'female'], n, p=proba))\n",
        "        else:\n",
        "            list_entries.append(np.random.choice(X[col].unique(), n, p=(X[col].value_counts()/1000).to_numpy()))\n",
        "    return pd.DataFrame(np.array(list_entries).transpose(), columns=X.columns)"
      ],
      "execution_count": null,
      "outputs": []
    },
    {
      "cell_type": "code",
      "metadata": {
        "id": "AAtwOf1-9PAk"
      },
      "source": [
        "p_femme = 0.7543\n",
        "\n",
        "X_0 = new_entries_femme(1000000, p_femme)\n",
        "y_0 = model.predict(X_0)\n",
        "\n",
        "X_0['defaut'] = y_0"
      ],
      "execution_count": null,
      "outputs": []
    },
    {
      "cell_type": "code",
      "metadata": {
        "id": "6VhzVIbQ9PAk",
        "outputId": "bcd6f37f-a133-4df4-9f3d-464b8bba93be"
      },
      "source": [
        "p_defaut_homme = X_0[(X_0.sex == 'male')].defaut.value_counts(normalize=True)[1]\n",
        "p_defaut_femme = X_0[(X_0.sex == 'female')].defaut.value_counts(normalize=True)[1]\n",
        "p_femme_defaut = X_0[X_0.defaut == 1].sex.value_counts(normalize=True)['female']\n",
        "\n",
        "p_femme = p_femme_defaut * ((1-p_femme) * p_defaut_homme + p_femme * p_defaut_femme) / p_defaut_femme\n",
        "print(f'{p_femme:.4f}')"
      ],
      "execution_count": null,
      "outputs": [
        {
          "output_type": "stream",
          "text": [
            "0.7543\n"
          ],
          "name": "stdout"
        }
      ]
    },
    {
      "cell_type": "code",
      "metadata": {
        "id": "8UUJu-Vj9PAl",
        "outputId": "2165e4b9-3ecf-4711-ea7b-70e952c67e9d"
      },
      "source": [
        "p_defaut_femme = 0.7\n",
        "p_defaut_homme = 0.6\n",
        "p_homme = 0.5\n",
        "p_femme = 1 - p_homme\n",
        "p_defaut = p_homme * p_defaut_homme + p_femme * p_defaut_femme\n",
        "\n",
        "p_femme_defaut = p_femme * p_defaut_femme / p_defaut\n",
        "print(f'{p_femme_defaut:.4f}')"
      ],
      "execution_count": null,
      "outputs": [
        {
          "output_type": "stream",
          "text": [
            "0.5385\n"
          ],
          "name": "stdout"
        }
      ]
    },
    {
      "cell_type": "code",
      "metadata": {
        "id": "0AcBei4b9PAl"
      },
      "source": [
        ""
      ],
      "execution_count": null,
      "outputs": []
    }
  ]
}